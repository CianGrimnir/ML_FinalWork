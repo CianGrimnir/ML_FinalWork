{
 "cells": [
  {
   "cell_type": "code",
   "execution_count": 41,
   "id": "4297d440",
   "metadata": {},
   "outputs": [
    {
     "name": "stdout",
     "output_type": "stream",
     "text": [
      "                           count       mean        std   min   25%   50%  \\\n",
      "STATION ID             2228278.0  60.196628  33.598271   2.0  31.0  61.0   \n",
      "BIKE STANDS            2228278.0  32.184342   7.666891  16.0  29.0  30.0   \n",
      "AVAILABLE BIKE STANDS  2228278.0  20.456110  11.140868   0.0  12.0  20.0   \n",
      "AVAILABLE BIKES        2228278.0  11.644086   9.980968   0.0   3.0  10.0   \n",
      "day_of_month           2228278.0  15.902037   9.262035   1.0   8.0  16.0   \n",
      "hour                   2228278.0  11.556068   6.876381   0.0   6.0  12.0   \n",
      "month                  2228278.0   2.317890   0.729879   1.0   2.0   2.0   \n",
      "week                   2228278.0   2.991054   1.976522   0.0   1.0   3.0   \n",
      "\n",
      "                        75%    max  \n",
      "STATION ID             90.0  117.0  \n",
      "BIKE STANDS            40.0   40.0  \n",
      "AVAILABLE BIKE STANDS  29.0   41.0  \n",
      "AVAILABLE BIKES        18.0   40.0  \n",
      "day_of_month           24.0   31.0  \n",
      "hour                   17.0   23.0  \n",
      "month                   3.0    4.0  \n",
      "week                    5.0    6.0  \n",
      "          count unique   top     freq\n",
      "STATUS  2228278      2  Open  2225991\n",
      "STATION ID                        int64\n",
      "TIME                     datetime64[ns]\n",
      "LAST UPDATED             datetime64[ns]\n",
      "NAME                             object\n",
      "BIKE STANDS                       int64\n",
      "AVAILABLE BIKE STANDS             int64\n",
      "AVAILABLE BIKES                   int64\n",
      "STATUS                         category\n",
      "ADDRESS                          object\n",
      "LATITUDE                        float64\n",
      "LONGITUDE                       float64\n",
      "formatted_time           datetime64[ns]\n",
      "day_of_week                      object\n",
      "day_of_month                      int64\n",
      "hour                              int64\n",
      "month                             int64\n",
      "week                              int64\n",
      "dtype: object\n"
     ]
    },
    {
     "name": "stderr",
     "output_type": "stream",
     "text": [
      "C:\\Users\\rkhna\\AppData\\Local\\Temp/ipykernel_7940/2053719420.py:51: UserWarning: This figure was using constrained_layout, but that is incompatible with subplots_adjust and/or tight_layout; disabling constrained_layout.\n",
      "  fig.autofmt_xdate()\n"
     ]
    }
   ],
   "source": [
    "import pandas as pd\n",
    "import matplotlib.pyplot as plt\n",
    "import matplotlib.dates as mdates\n",
    "import numpy as np\n",
    "\n",
    "dataset = pd.read_csv(\"dublinbikes_20200101_20200401.csv\")\n",
    "df = dataset\n",
    "\n",
    "df1 = df.copy()\n",
    "df1['STATUS'] = df1['STATUS'].astype('category')\n",
    "df1['LAST UPDATED'] = pd.to_datetime(df1['LAST UPDATED'])\n",
    "df1['TIME'] = pd.to_datetime(df1['TIME'])\n",
    "df1['formatted_time'] = df1['TIME'].dt.floor('h')\n",
    "\n",
    "df1['day_of_week'] = df1['formatted_time'].dt.strftime('%A')\n",
    "df1['day_of_month'] = df1['formatted_time'].dt.strftime('%d').astype(np.int64)\n",
    "df1['hour'] = df1['formatted_time'].dt.strftime('%H').astype(np.int64)\n",
    "df1['month'] = df1['formatted_time'].dt.strftime('%m').astype(np.int64)\n",
    "df1['week'] = df1['formatted_time'].dt.strftime('%w').astype(np.int64)\n",
    "numeric_columns = df1.select_dtypes(['int64']).columns\n",
    "print(df1[numeric_columns].describe().T)\n",
    "print(df1.select_dtypes(['category']).describe().T)\n",
    "print(df1.dtypes)\n",
    "\n",
    "ts = pd.to_datetime('2020/02/01')\n",
    "te = pd.to_datetime('2020/04/01')\n",
    "mask = (df1['TIME'] >= ts) & (df1['TIME'] <= te)\n",
    "pd.options.mode.chained_assignment = None\n",
    "#df['TIME'].max() - df['TIME'].min()\n",
    "suburb_point = \"Merrion Square South\"\n",
    "#suburb_point = \"Grangegorman Lower (South)\"\n",
    "suburb_df = df1.loc[mask]\n",
    "suburb_df = suburb_df[suburb_df['ADDRESS'] == suburb_point]\n",
    "suburb_dataset = suburb_df[['TIME', 'AVAILABLE BIKES']]\n",
    "#fig, ax = plt.subplots()\n",
    "\n",
    "suburb_dataset['date'] = suburb_dataset['TIME'].dt.floor('T')\n",
    "suburb_dataset = suburb_dataset.reset_index()\n",
    "suburb_dataset.drop('TIME',axis=1, inplace=True)\n",
    "time = suburb_dataset['date']\n",
    "bikes = suburb_dataset['AVAILABLE BIKES']\n",
    "#plot 2 week data for Merrion Square South region\n",
    "fig = plt.figure()\n",
    "ax = fig.add_subplot(111)\n",
    "ax.xaxis.set_minor_locator(mdates.DayLocator(interval=1))\n",
    "ax.xaxis.set_major_locator(mdates.DayLocator(interval=1))\n",
    "ax.xaxis.set_major_formatter(mdates.DateFormatter('%Y-%m-%d'))\n",
    "ax.scatter(time,bikes, color=\"red\", marker=\".\", label='bike count')\n",
    "ax.set_xlabel(\"date\")\n",
    "ax.set_ylabel(\"bike available\")\n",
    "fig.autofmt_xdate()\n",
    "ax.grid(True)\n",
    "ax.set_title(f'Bike usage for {suburb_point}')\n",
    "plt.show()"
   ]
  },
  {
   "cell_type": "code",
   "execution_count": 17,
   "id": "3733c1fb",
   "metadata": {},
   "outputs": [
    {
     "name": "stderr",
     "output_type": "stream",
     "text": [
      "C:\\Users\\rkhna\\AppData\\Local\\Temp/ipykernel_3884/144600625.py:11: FutureWarning: casting datetime64[ns] values to int64 with .astype(...) is deprecated and will raise in a future version. Use .view(...) instead.\n",
      "  t_full = pd.array(pd.DatetimeIndex(suburb_df.iloc[:,1]).astype(np.int64))/1000000000\n"
     ]
    },
    {
     "name": "stdout",
     "output_type": "stream",
     "text": [
      "intial set :  17127 2016 1 2 13093\n",
      "lag value -  1\n",
      "SCORE: 0.095, MSE:36.11, RMSE:6.01\n",
      "r2_score - 0.09683234583070288\n",
      "intial set :  17127 2016 2 2 11077\n",
      "lag value -  2\n",
      "SCORE: 0.303, MSE:29.11, RMSE:5.40\n",
      "r2_score - 0.3141160035928825\n",
      "intial set :  17127 2016 3 2 9061\n",
      "lag value -  3\n",
      "SCORE: 0.555, MSE:20.20, RMSE:4.49\n",
      "r2_score - 0.5536572873652599\n",
      "intial set :  17127 2016 4 2 7045\n",
      "lag value -  4\n"
     ]
    },
    {
     "name": "stderr",
     "output_type": "stream",
     "text": [
      "C:\\Users\\rkhna\\AppData\\Local\\Packages\\PythonSoftwareFoundation.Python.3.9_qbz5n2kfra8p0\\LocalCache\\local-packages\\Python39\\site-packages\\sklearn\\linear_model\\_coordinate_descent.py:530: ConvergenceWarning: Objective did not converge. You might want to increase the number of iterations. Duality gap: 28442.756388018955, tolerance: 32.89392437913912\n",
      "  model = cd_fast.enet_coordinate_descent(\n"
     ]
    },
    {
     "name": "stdout",
     "output_type": "stream",
     "text": [
      "SCORE: 0.530, MSE:23.78, RMSE:4.88\n",
      "r2_score - 0.5275314079057982\n",
      "[0.09683234583070288, 0.3141160035928825, 0.5536572873652599, 0.5275314079057982]\n",
      "[36.11213, 29.11242, 20.20128, 23.77683]\n",
      "[1, 2, 3, 4]\n"
     ]
    }
   ],
   "source": [
    "from sklearn.metrics import r2_score\n",
    "import math\n",
    "from sklearn.metrics import r2_score\n",
    "from sklearn.linear_model import Lasso\n",
    "from sklearn.metrics import mean_squared_error\n",
    "from sklearn.model_selection import train_test_split\n",
    "\n",
    "day_of_month = suburb_df['day_of_month']\n",
    "hour = suburb_df['hour']\n",
    "\n",
    "t_full = pd.array(pd.DatetimeIndex(suburb_df.iloc[:,1]).astype(np.int64))/1000000000\n",
    "dt = t_full[1]-t_full[0]\n",
    "\n",
    "q=2\n",
    "lag_range = [1,2,3,4]\n",
    "stride=1\n",
    "Ci = 50\n",
    "scores = []\n",
    "errors = []\n",
    "for lag in lag_range:\n",
    "    w=math.floor(7*24*60*60/dt)\n",
    "    length = bikes.size - w - lag * w - q\n",
    "    print(\"intial set : \", bikes.size, w, lag, q, length)\n",
    "    XX=bikes[q:q+length:stride]\n",
    "    X1 = day_of_month[q:q+length:stride]\n",
    "    X2 = hour[q:q+length:stride]\n",
    "    XX=np.column_stack((XX,X1, X2))\n",
    "    #week\n",
    "    for i in range(1,lag):\n",
    "        X=bikes[i*w+q:i*w+q+length:stride]\n",
    "        X1 = day_of_month[i*w+q:i*w+q+length:stride]\n",
    "        X2 = hour[i*w+q:i*w+q+length:stride]\n",
    "        XX=np.column_stack((XX,X, X1, X2))\n",
    "    d=math.floor(24*60*60/dt)\n",
    "    #days\n",
    "    for i in range(0,lag):\n",
    "        X=bikes[i*d+q:i*d+q+length:stride]\n",
    "        X1=day_of_month[i*d+q:i*d+q+length:stride]\n",
    "        X2=hour[i*d+q:i*d+q+length:stride]\n",
    "        XX=np.column_stack((XX,X, X1, X2))\n",
    "\n",
    "    for i in range(0,lag):\n",
    "        X=bikes[i:i+length:stride]\n",
    "        X1=day_of_month[i:i+length:stride]\n",
    "        X2=hour[i:i+length:stride]\n",
    "        XX=np.column_stack((XX,X, X1, X2))\n",
    "\n",
    "    yy=bikes[lag*w+w+q:lag*w+w+q+length:stride] \n",
    "    tt=time[lag*w+w+q:lag*w+w+q+length:stride]\n",
    "    \n",
    "    yy.reset_index(drop=True, inplace=True)\n",
    "    tt.reset_index(drop=True, inplace=True)\n",
    "\n",
    "    train, test = train_test_split(np.arange(0,yy.size),test_size=0.2)\n",
    "\n",
    "    a = 1/(2*Ci)\n",
    "    print(\"lag value - \", lag)\n",
    "    model = Lasso(alpha= a).fit(XX[train], yy[train])\n",
    "    y_pred = model.predict(XX)\n",
    "    score = model.score(XX[test], yy[test])\n",
    "    from sklearn.model_selection import cross_val_score\n",
    "    mse = mean_squared_error(yy,y_pred)\n",
    "    errors.append(mse)\n",
    "    r2 = r2_score(yy,y_pred)\n",
    "    scores.append(r2)\n",
    "    print(\"SCORE: {0:.3f}, MSE:{1:.2f}, RMSE:{2:.2f}\"\n",
    "    .format(score,  mse,np.sqrt(mse)))\n",
    "    print(f'r2_score - {r2}')\n",
    "\n",
    "plt.close(\"all\")\n",
    "fig, (ax1, ax2) = plt.subplots(1, 2)\n",
    "#fig=plt.figure()\n",
    "#ax1=fig.add_subplot(111)\n",
    "ax1.plot(lag_range,scores)\n",
    "ax1.set_xlabel('Alpha (lag range)')\n",
    "ax1.set_ylabel('Beta (Score)')\n",
    "ax1.set_title('Model Score vs Lag Value')\n",
    "ax1.axis('tight')\n",
    "\n",
    "# fig=plt.figure()\n",
    "# ax2=fig.add_subplot(111)\n",
    "\n",
    "ax2 = plt.gca()\n",
    "ax2.ticklabel_format(useOffset=False)\n",
    "errors = [round(num, 5) for num in errors]\n",
    "\n",
    "ax2.plot(lag_range, errors)\n",
    "ax2.set_xlabel(\"lag\")\n",
    "ax2.set_ylabel(\"error\")\n",
    "ax2.set_title(\"Error vs Lag\")\n",
    "ax2.axis(\"tight\")\n",
    "fig.show()\n",
    "# ax2.set_yticklabels(errors)\n",
    "print(scores)\n",
    "print(errors)\n",
    "print(lag_range)"
   ]
  },
  {
   "cell_type": "code",
   "execution_count": 18,
   "id": "0b9d256c",
   "metadata": {},
   "outputs": [
    {
     "name": "stderr",
     "output_type": "stream",
     "text": [
      "C:\\Users\\rkhna\\AppData\\Local\\Temp/ipykernel_3884/2814713869.py:11: FutureWarning: casting datetime64[ns] values to int64 with .astype(...) is deprecated and will raise in a future version. Use .view(...) instead.\n",
      "  t_full = pd.array(pd.DatetimeIndex(suburb_df.iloc[:,1]).astype(np.int64))/1000000000\n"
     ]
    },
    {
     "name": "stdout",
     "output_type": "stream",
     "text": [
      "1\n",
      "10 0.05\n",
      "SCORE: 0.548, MSE:20.20, RMSE:4.49\n",
      "r2_score - 0.5536864452511905\n",
      "2\n",
      "10 0.05\n"
     ]
    },
    {
     "name": "stderr",
     "output_type": "stream",
     "text": [
      "C:\\Users\\rkhna\\AppData\\Local\\Packages\\PythonSoftwareFoundation.Python.3.9_qbz5n2kfra8p0\\LocalCache\\local-packages\\Python39\\site-packages\\sklearn\\linear_model\\_coordinate_descent.py:530: ConvergenceWarning: Objective did not converge. You might want to increase the number of iterations. Duality gap: 34069.99528123437, tolerance: 32.394982726269276\n",
      "  model = cd_fast.enet_coordinate_descent(\n"
     ]
    },
    {
     "name": "stdout",
     "output_type": "stream",
     "text": [
      "SCORE: 0.778, MSE:10.04, RMSE:3.17\n",
      "r2_score - 0.7781633236608934\n",
      "3\n",
      "10 0.05\n"
     ]
    },
    {
     "name": "stderr",
     "output_type": "stream",
     "text": [
      "C:\\Users\\rkhna\\AppData\\Local\\Packages\\PythonSoftwareFoundation.Python.3.9_qbz5n2kfra8p0\\LocalCache\\local-packages\\Python39\\site-packages\\sklearn\\linear_model\\_coordinate_descent.py:530: ConvergenceWarning: Objective did not converge. You might want to increase the number of iterations. Duality gap: 18094.197954347608, tolerance: 32.394982726269276\n",
      "  model = cd_fast.enet_coordinate_descent(\n"
     ]
    },
    {
     "name": "stdout",
     "output_type": "stream",
     "text": [
      "SCORE: 0.889, MSE:4.91, RMSE:2.22\n",
      "r2_score - 0.8914390893181029\n",
      "4\n",
      "10 0.05\n"
     ]
    },
    {
     "name": "stderr",
     "output_type": "stream",
     "text": [
      "C:\\Users\\rkhna\\AppData\\Local\\Packages\\PythonSoftwareFoundation.Python.3.9_qbz5n2kfra8p0\\LocalCache\\local-packages\\Python39\\site-packages\\sklearn\\linear_model\\_coordinate_descent.py:530: ConvergenceWarning: Objective did not converge. You might want to increase the number of iterations. Duality gap: 8721.022245747445, tolerance: 32.394982726269276\n",
      "  model = cd_fast.enet_coordinate_descent(\n"
     ]
    },
    {
     "name": "stdout",
     "output_type": "stream",
     "text": [
      "SCORE: 0.944, MSE:2.36, RMSE:1.54\n",
      "r2_score - 0.9478441574854815\n"
     ]
    }
   ],
   "source": [
    "from sklearn.metrics import r2_score\n",
    "from sklearn.linear_model import Lasso\n",
    "from sklearn.metrics import r2_score\n",
    "from sklearn.metrics import mean_squared_error\n",
    "from sklearn.model_selection import train_test_split\n",
    "from sklearn.preprocessing import PolynomialFeatures\n",
    "import math\n",
    "\n",
    "%matplotlib qt\n",
    "\n",
    "t_full = pd.array(pd.DatetimeIndex(suburb_df.iloc[:,1]).astype(np.int64))/1000000000\n",
    "dt = t_full[1]-t_full[0]\n",
    "\n",
    "day_of_month = suburb_df['day_of_month']\n",
    "hour = suburb_df['hour']\n",
    "\n",
    "q=2\n",
    "lag=3\n",
    "stride=1\n",
    "w=math.floor(7*24*60*60/dt)\n",
    "length = bikes.size - w - lag * w - q\n",
    "XX=bikes[q:q+length:stride]\n",
    "X1 = day_of_month[q:q+length:stride]\n",
    "X2 = hour[q:q+length:stride]\n",
    "XX=np.column_stack((XX,X1, X2))\n",
    "#week\n",
    "for i in range(1,lag):\n",
    "    X=bikes[i*w+q:i*w+q+length:stride]\n",
    "    X1 = day_of_month[i*w+q:i*w+q+length:stride]\n",
    "    X2 = hour[i*w+q:i*w+q+length:stride]\n",
    "    XX=np.column_stack((XX,X, X1, X2))\n",
    "d=math.floor(24*60*60/dt)\n",
    "#days\n",
    "for i in range(0,lag):\n",
    "    X=bikes[i*d+q:i*d+q+length:stride]\n",
    "    X1=day_of_month[i*d+q:i*d+q+length:stride]\n",
    "    X2=hour[i*d+q:i*d+q+length:stride]\n",
    "    XX=np.column_stack((XX,X, X1, X2))\n",
    "\n",
    "for i in range(0,lag):\n",
    "    X=bikes[i:i+length:stride]\n",
    "    X1=day_of_month[i:i+length:stride]\n",
    "    X2=hour[i:i+length:stride]\n",
    "    XX=np.column_stack((XX,X, X1, X2))\n",
    "\n",
    "yy=bikes[lag*w+w+q:lag*w+w+q+length:stride] \n",
    "tt=time[lag*w+w+q:lag*w+w+q+length:stride]\n",
    "\n",
    "yy.reset_index(drop=True, inplace=True)\n",
    "tt.reset_index(drop=True, inplace=True)\n",
    "\n",
    "\n",
    "train, test = train_test_split(np.arange(0,yy.size),test_size=0.2)\n",
    "\n",
    "coeff = []\n",
    "alphas = []\n",
    "errors = []\n",
    "scores = []\n",
    "Ci = 10\n",
    "qrange = [1, 2, 3, 4]\n",
    "\n",
    "\n",
    "c_temp = []\n",
    "mean_error = []\n",
    "std_error = []\n",
    "for q in qrange:\n",
    "    print(q)\n",
    "    temp = []\n",
    "    XPoly = PolynomialFeatures(q).fit_transform(XX)\n",
    "    a = 1/(2*Ci)\n",
    "    print(Ci, a)\n",
    "    model = Lasso(alpha= a).fit(XPoly[train], yy[train])\n",
    "    coeff.append(model.coef_)\n",
    "    alphas.append(a)\n",
    "    y_pred = model.predict(XPoly)\n",
    "    score = model.score(XPoly[test], yy[test])\n",
    "    #r2_score = r2_score(yy,y_pred)\n",
    "    # scores = cross_val_score(model, XX[test], yy[test], cv=5, scoring='f1')\n",
    "    mse = mean_squared_error(yy,y_pred)\n",
    "    errors.append(np.sqrt(mse))\n",
    "    r2 = r2_score(yy,y_pred)\n",
    "    scores.append(r2)\n",
    "    print(\"SCORE: {0:.3f}, MSE:{1:.2f}, RMSE:{2:.2f}\"\n",
    "   .format(score,  mse,np.sqrt(mse)))\n",
    "    #print(r2_score(yy,y_pred))\n",
    "    print(f'r2_score - {r2}')\n",
    "\n",
    "\n",
    "plt.close(\"all\")\n",
    "fig, (ax1, ax2) = plt.subplots(1, 2)\n",
    "\n",
    "ax1.plot(qrange,scores)\n",
    "ax1.set_xlabel('Alpha (Polynomial range)')\n",
    "ax1.set_ylabel('Beta (Score)')\n",
    "ax1.set_title('Model Score vs Polynomial Value')\n",
    "ax1.axis('tight')\n",
    "\n",
    "ax2 = plt.gca()\n",
    "ax2.ticklabel_format(useOffset=False)\n",
    "errors = [round(num, 5) for num in errors]\n",
    "ax2.plot(qrange, errors)\n",
    "ax2.set_xlabel(\"ploynomial value\")\n",
    "ax2.set_ylabel(\"error\")\n",
    "ax2.set_title(\"Error vs polynomial\")\n",
    "ax2.axis(\"tight\")\n",
    "fig.show()\n",
    "\n",
    "plt.show()"
   ]
  },
  {
   "cell_type": "code",
   "execution_count": 38,
   "id": "0a590e62",
   "metadata": {},
   "outputs": [
    {
     "name": "stderr",
     "output_type": "stream",
     "text": [
      "C:\\Users\\rkhna\\AppData\\Local\\Temp/ipykernel_7940/2480376473.py:13: FutureWarning: casting datetime64[ns] values to int64 with .astype(...) is deprecated and will raise in a future version. Use .view(...) instead.\n",
      "  t_full = pd.array(pd.DatetimeIndex(suburb_df.iloc[:,1]).astype(np.int64))/1000000000\n"
     ]
    },
    {
     "name": "stdout",
     "output_type": "stream",
     "text": [
      "0.01 50.0\n"
     ]
    },
    {
     "name": "stderr",
     "output_type": "stream",
     "text": [
      "C:\\Users\\rkhna\\AppData\\Local\\Packages\\PythonSoftwareFoundation.Python.3.9_qbz5n2kfra8p0\\LocalCache\\local-packages\\Python39\\site-packages\\sklearn\\linear_model\\_coordinate_descent.py:530: ConvergenceWarning: Objective did not converge. You might want to increase the number of iterations. Duality gap: 14942.639442909025, tolerance: 32.922124448123604\n",
      "  model = cd_fast.enet_coordinate_descent(\n"
     ]
    },
    {
     "name": "stdout",
     "output_type": "stream",
     "text": [
      "coefficient  4.5325792433734815 [ 0. -0.  0. ... -0. -0.  0.]\n"
     ]
    },
    {
     "name": "stderr",
     "output_type": "stream",
     "text": [
      "C:\\Users\\rkhna\\AppData\\Local\\Packages\\PythonSoftwareFoundation.Python.3.9_qbz5n2kfra8p0\\LocalCache\\local-packages\\Python39\\site-packages\\sklearn\\linear_model\\_coordinate_descent.py:530: ConvergenceWarning: Objective did not converge. You might want to increase the number of iterations. Duality gap: 2283.4344347852975, tolerance: 7.356538810545679\n",
      "  model = cd_fast.enet_coordinate_descent(\n",
      "C:\\Users\\rkhna\\AppData\\Local\\Packages\\PythonSoftwareFoundation.Python.3.9_qbz5n2kfra8p0\\LocalCache\\local-packages\\Python39\\site-packages\\sklearn\\linear_model\\_coordinate_descent.py:530: ConvergenceWarning: Objective did not converge. You might want to increase the number of iterations. Duality gap: 2121.8329002968067, tolerance: 7.307520539546292\n",
      "  model = cd_fast.enet_coordinate_descent(\n",
      "C:\\Users\\rkhna\\AppData\\Local\\Packages\\PythonSoftwareFoundation.Python.3.9_qbz5n2kfra8p0\\LocalCache\\local-packages\\Python39\\site-packages\\sklearn\\linear_model\\_coordinate_descent.py:530: ConvergenceWarning: Objective did not converge. You might want to increase the number of iterations. Duality gap: 2160.5169480977215, tolerance: 7.192923605150215\n",
      "  model = cd_fast.enet_coordinate_descent(\n",
      "C:\\Users\\rkhna\\AppData\\Local\\Packages\\PythonSoftwareFoundation.Python.3.9_qbz5n2kfra8p0\\LocalCache\\local-packages\\Python39\\site-packages\\sklearn\\linear_model\\_coordinate_descent.py:530: ConvergenceWarning: Objective did not converge. You might want to increase the number of iterations. Duality gap: 2226.3986509275674, tolerance: 7.308964460784315\n",
      "  model = cd_fast.enet_coordinate_descent(\n",
      "C:\\Users\\rkhna\\AppData\\Local\\Packages\\PythonSoftwareFoundation.Python.3.9_qbz5n2kfra8p0\\LocalCache\\local-packages\\Python39\\site-packages\\sklearn\\linear_model\\_coordinate_descent.py:530: ConvergenceWarning: Objective did not converge. You might want to increase the number of iterations. Duality gap: 2311.174631122884, tolerance: 7.3645009191176465\n",
      "  model = cd_fast.enet_coordinate_descent(\n",
      "C:\\Users\\rkhna\\AppData\\Local\\Packages\\PythonSoftwareFoundation.Python.3.9_qbz5n2kfra8p0\\LocalCache\\local-packages\\Python39\\site-packages\\sklearn\\linear_model\\_coordinate_descent.py:530: ConvergenceWarning: Objective did not converge. You might want to increase the number of iterations. Duality gap: 2289.7348404443505, tolerance: 7.302921997549022\n",
      "  model = cd_fast.enet_coordinate_descent(\n",
      "C:\\Users\\rkhna\\AppData\\Local\\Packages\\PythonSoftwareFoundation.Python.3.9_qbz5n2kfra8p0\\LocalCache\\local-packages\\Python39\\site-packages\\sklearn\\linear_model\\_coordinate_descent.py:530: ConvergenceWarning: Objective did not converge. You might want to increase the number of iterations. Duality gap: 2205.912351579206, tolerance: 7.142982291666666\n",
      "  model = cd_fast.enet_coordinate_descent(\n",
      "C:\\Users\\rkhna\\AppData\\Local\\Packages\\PythonSoftwareFoundation.Python.3.9_qbz5n2kfra8p0\\LocalCache\\local-packages\\Python39\\site-packages\\sklearn\\linear_model\\_coordinate_descent.py:530: ConvergenceWarning: Objective did not converge. You might want to increase the number of iterations. Duality gap: 2460.4467316665105, tolerance: 7.175901960784317\n",
      "  model = cd_fast.enet_coordinate_descent(\n",
      "C:\\Users\\rkhna\\AppData\\Local\\Packages\\PythonSoftwareFoundation.Python.3.9_qbz5n2kfra8p0\\LocalCache\\local-packages\\Python39\\site-packages\\sklearn\\linear_model\\_coordinate_descent.py:530: ConvergenceWarning: Objective did not converge. You might want to increase the number of iterations. Duality gap: 2152.2406212329633, tolerance: 7.219673468137254\n",
      "  model = cd_fast.enet_coordinate_descent(\n",
      "C:\\Users\\rkhna\\AppData\\Local\\Packages\\PythonSoftwareFoundation.Python.3.9_qbz5n2kfra8p0\\LocalCache\\local-packages\\Python39\\site-packages\\sklearn\\linear_model\\_coordinate_descent.py:530: ConvergenceWarning: Objective did not converge. You might want to increase the number of iterations. Duality gap: 2273.7616250817277, tolerance: 7.401008272058824\n",
      "  model = cd_fast.enet_coordinate_descent(\n"
     ]
    },
    {
     "name": "stdout",
     "output_type": "stream",
     "text": [
      "SCORE: 0.903, MSE:4.34, RMSE:2.08\n",
      "r2_score - 0.9041129301490315\n",
      "0.1 5.0\n"
     ]
    },
    {
     "name": "stderr",
     "output_type": "stream",
     "text": [
      "C:\\Users\\rkhna\\AppData\\Local\\Packages\\PythonSoftwareFoundation.Python.3.9_qbz5n2kfra8p0\\LocalCache\\local-packages\\Python39\\site-packages\\sklearn\\linear_model\\_coordinate_descent.py:530: ConvergenceWarning: Objective did not converge. You might want to increase the number of iterations. Duality gap: 10997.420940401606, tolerance: 32.922124448123604\n",
      "  model = cd_fast.enet_coordinate_descent(\n"
     ]
    },
    {
     "name": "stdout",
     "output_type": "stream",
     "text": [
      "coefficient  5.94016473345817 [ 0.00000000e+00 -0.00000000e+00  0.00000000e+00 ... -0.00000000e+00\n",
      "  1.22497339e-07 -4.03845436e-07]\n"
     ]
    },
    {
     "name": "stderr",
     "output_type": "stream",
     "text": [
      "C:\\Users\\rkhna\\AppData\\Local\\Packages\\PythonSoftwareFoundation.Python.3.9_qbz5n2kfra8p0\\LocalCache\\local-packages\\Python39\\site-packages\\sklearn\\linear_model\\_coordinate_descent.py:530: ConvergenceWarning: Objective did not converge. You might want to increase the number of iterations. Duality gap: 2095.4584401289485, tolerance: 7.356538810545679\n",
      "  model = cd_fast.enet_coordinate_descent(\n",
      "C:\\Users\\rkhna\\AppData\\Local\\Packages\\PythonSoftwareFoundation.Python.3.9_qbz5n2kfra8p0\\LocalCache\\local-packages\\Python39\\site-packages\\sklearn\\linear_model\\_coordinate_descent.py:530: ConvergenceWarning: Objective did not converge. You might want to increase the number of iterations. Duality gap: 2084.4603428203254, tolerance: 7.307520539546292\n",
      "  model = cd_fast.enet_coordinate_descent(\n",
      "C:\\Users\\rkhna\\AppData\\Local\\Packages\\PythonSoftwareFoundation.Python.3.9_qbz5n2kfra8p0\\LocalCache\\local-packages\\Python39\\site-packages\\sklearn\\linear_model\\_coordinate_descent.py:530: ConvergenceWarning: Objective did not converge. You might want to increase the number of iterations. Duality gap: 1934.7340844608477, tolerance: 7.192923605150215\n",
      "  model = cd_fast.enet_coordinate_descent(\n",
      "C:\\Users\\rkhna\\AppData\\Local\\Packages\\PythonSoftwareFoundation.Python.3.9_qbz5n2kfra8p0\\LocalCache\\local-packages\\Python39\\site-packages\\sklearn\\linear_model\\_coordinate_descent.py:530: ConvergenceWarning: Objective did not converge. You might want to increase the number of iterations. Duality gap: 2084.0580714374637, tolerance: 7.308964460784315\n",
      "  model = cd_fast.enet_coordinate_descent(\n",
      "C:\\Users\\rkhna\\AppData\\Local\\Packages\\PythonSoftwareFoundation.Python.3.9_qbz5n2kfra8p0\\LocalCache\\local-packages\\Python39\\site-packages\\sklearn\\linear_model\\_coordinate_descent.py:530: ConvergenceWarning: Objective did not converge. You might want to increase the number of iterations. Duality gap: 2017.397870438946, tolerance: 7.3645009191176465\n",
      "  model = cd_fast.enet_coordinate_descent(\n",
      "C:\\Users\\rkhna\\AppData\\Local\\Packages\\PythonSoftwareFoundation.Python.3.9_qbz5n2kfra8p0\\LocalCache\\local-packages\\Python39\\site-packages\\sklearn\\linear_model\\_coordinate_descent.py:530: ConvergenceWarning: Objective did not converge. You might want to increase the number of iterations. Duality gap: 2067.90619995246, tolerance: 7.302921997549022\n",
      "  model = cd_fast.enet_coordinate_descent(\n",
      "C:\\Users\\rkhna\\AppData\\Local\\Packages\\PythonSoftwareFoundation.Python.3.9_qbz5n2kfra8p0\\LocalCache\\local-packages\\Python39\\site-packages\\sklearn\\linear_model\\_coordinate_descent.py:530: ConvergenceWarning: Objective did not converge. You might want to increase the number of iterations. Duality gap: 2005.1994795505059, tolerance: 7.142982291666666\n",
      "  model = cd_fast.enet_coordinate_descent(\n",
      "C:\\Users\\rkhna\\AppData\\Local\\Packages\\PythonSoftwareFoundation.Python.3.9_qbz5n2kfra8p0\\LocalCache\\local-packages\\Python39\\site-packages\\sklearn\\linear_model\\_coordinate_descent.py:530: ConvergenceWarning: Objective did not converge. You might want to increase the number of iterations. Duality gap: 2007.988782940889, tolerance: 7.175901960784317\n",
      "  model = cd_fast.enet_coordinate_descent(\n",
      "C:\\Users\\rkhna\\AppData\\Local\\Packages\\PythonSoftwareFoundation.Python.3.9_qbz5n2kfra8p0\\LocalCache\\local-packages\\Python39\\site-packages\\sklearn\\linear_model\\_coordinate_descent.py:530: ConvergenceWarning: Objective did not converge. You might want to increase the number of iterations. Duality gap: 2047.078250769654, tolerance: 7.219673468137254\n",
      "  model = cd_fast.enet_coordinate_descent(\n",
      "C:\\Users\\rkhna\\AppData\\Local\\Packages\\PythonSoftwareFoundation.Python.3.9_qbz5n2kfra8p0\\LocalCache\\local-packages\\Python39\\site-packages\\sklearn\\linear_model\\_coordinate_descent.py:530: ConvergenceWarning: Objective did not converge. You might want to increase the number of iterations. Duality gap: 2040.0118938014907, tolerance: 7.401008272058824\n",
      "  model = cd_fast.enet_coordinate_descent(\n"
     ]
    },
    {
     "name": "stdout",
     "output_type": "stream",
     "text": [
      "SCORE: 0.930, MSE:2.84, RMSE:1.69\n",
      "r2_score - 0.937264125913572\n",
      "1 0.5\n"
     ]
    },
    {
     "name": "stderr",
     "output_type": "stream",
     "text": [
      "C:\\Users\\rkhna\\AppData\\Local\\Packages\\PythonSoftwareFoundation.Python.3.9_qbz5n2kfra8p0\\LocalCache\\local-packages\\Python39\\site-packages\\sklearn\\linear_model\\_coordinate_descent.py:530: ConvergenceWarning: Objective did not converge. You might want to increase the number of iterations. Duality gap: 9590.57408699311, tolerance: 32.922124448123604\n",
      "  model = cd_fast.enet_coordinate_descent(\n"
     ]
    },
    {
     "name": "stdout",
     "output_type": "stream",
     "text": [
      "coefficient  6.673932740975362 [ 0.00000000e+00 -0.00000000e+00  0.00000000e+00 ...  1.29016736e-07\n",
      "  5.36904232e-07 -9.99708223e-07]\n"
     ]
    },
    {
     "name": "stderr",
     "output_type": "stream",
     "text": [
      "C:\\Users\\rkhna\\AppData\\Local\\Packages\\PythonSoftwareFoundation.Python.3.9_qbz5n2kfra8p0\\LocalCache\\local-packages\\Python39\\site-packages\\sklearn\\linear_model\\_coordinate_descent.py:530: ConvergenceWarning: Objective did not converge. You might want to increase the number of iterations. Duality gap: 1532.872010815545, tolerance: 7.356538810545679\n",
      "  model = cd_fast.enet_coordinate_descent(\n",
      "C:\\Users\\rkhna\\AppData\\Local\\Packages\\PythonSoftwareFoundation.Python.3.9_qbz5n2kfra8p0\\LocalCache\\local-packages\\Python39\\site-packages\\sklearn\\linear_model\\_coordinate_descent.py:530: ConvergenceWarning: Objective did not converge. You might want to increase the number of iterations. Duality gap: 1504.9504247925508, tolerance: 7.307520539546292\n",
      "  model = cd_fast.enet_coordinate_descent(\n",
      "C:\\Users\\rkhna\\AppData\\Local\\Packages\\PythonSoftwareFoundation.Python.3.9_qbz5n2kfra8p0\\LocalCache\\local-packages\\Python39\\site-packages\\sklearn\\linear_model\\_coordinate_descent.py:530: ConvergenceWarning: Objective did not converge. You might want to increase the number of iterations. Duality gap: 1415.0902245169318, tolerance: 7.192923605150215\n",
      "  model = cd_fast.enet_coordinate_descent(\n",
      "C:\\Users\\rkhna\\AppData\\Local\\Packages\\PythonSoftwareFoundation.Python.3.9_qbz5n2kfra8p0\\LocalCache\\local-packages\\Python39\\site-packages\\sklearn\\linear_model\\_coordinate_descent.py:530: ConvergenceWarning: Objective did not converge. You might want to increase the number of iterations. Duality gap: 1525.7942937954297, tolerance: 7.308964460784315\n",
      "  model = cd_fast.enet_coordinate_descent(\n",
      "C:\\Users\\rkhna\\AppData\\Local\\Packages\\PythonSoftwareFoundation.Python.3.9_qbz5n2kfra8p0\\LocalCache\\local-packages\\Python39\\site-packages\\sklearn\\linear_model\\_coordinate_descent.py:530: ConvergenceWarning: Objective did not converge. You might want to increase the number of iterations. Duality gap: 1463.7425510024013, tolerance: 7.3645009191176465\n",
      "  model = cd_fast.enet_coordinate_descent(\n",
      "C:\\Users\\rkhna\\AppData\\Local\\Packages\\PythonSoftwareFoundation.Python.3.9_qbz5n2kfra8p0\\LocalCache\\local-packages\\Python39\\site-packages\\sklearn\\linear_model\\_coordinate_descent.py:530: ConvergenceWarning: Objective did not converge. You might want to increase the number of iterations. Duality gap: 1475.172797522306, tolerance: 7.302921997549022\n",
      "  model = cd_fast.enet_coordinate_descent(\n",
      "C:\\Users\\rkhna\\AppData\\Local\\Packages\\PythonSoftwareFoundation.Python.3.9_qbz5n2kfra8p0\\LocalCache\\local-packages\\Python39\\site-packages\\sklearn\\linear_model\\_coordinate_descent.py:530: ConvergenceWarning: Objective did not converge. You might want to increase the number of iterations. Duality gap: 1468.063307489845, tolerance: 7.142982291666666\n",
      "  model = cd_fast.enet_coordinate_descent(\n",
      "C:\\Users\\rkhna\\AppData\\Local\\Packages\\PythonSoftwareFoundation.Python.3.9_qbz5n2kfra8p0\\LocalCache\\local-packages\\Python39\\site-packages\\sklearn\\linear_model\\_coordinate_descent.py:530: ConvergenceWarning: Objective did not converge. You might want to increase the number of iterations. Duality gap: 1456.1189271258065, tolerance: 7.175901960784317\n",
      "  model = cd_fast.enet_coordinate_descent(\n",
      "C:\\Users\\rkhna\\AppData\\Local\\Packages\\PythonSoftwareFoundation.Python.3.9_qbz5n2kfra8p0\\LocalCache\\local-packages\\Python39\\site-packages\\sklearn\\linear_model\\_coordinate_descent.py:530: ConvergenceWarning: Objective did not converge. You might want to increase the number of iterations. Duality gap: 1429.2286480601374, tolerance: 7.219673468137254\n",
      "  model = cd_fast.enet_coordinate_descent(\n",
      "C:\\Users\\rkhna\\AppData\\Local\\Packages\\PythonSoftwareFoundation.Python.3.9_qbz5n2kfra8p0\\LocalCache\\local-packages\\Python39\\site-packages\\sklearn\\linear_model\\_coordinate_descent.py:530: ConvergenceWarning: Objective did not converge. You might want to increase the number of iterations. Duality gap: 1416.3144582959587, tolerance: 7.401008272058824\n",
      "  model = cd_fast.enet_coordinate_descent(\n"
     ]
    },
    {
     "name": "stdout",
     "output_type": "stream",
     "text": [
      "SCORE: 0.934, MSE:2.51, RMSE:1.58\n",
      "r2_score - 0.9446406421580008\n",
      "3 0.16666666666666666\n"
     ]
    },
    {
     "name": "stderr",
     "output_type": "stream",
     "text": [
      "C:\\Users\\rkhna\\AppData\\Local\\Packages\\PythonSoftwareFoundation.Python.3.9_qbz5n2kfra8p0\\LocalCache\\local-packages\\Python39\\site-packages\\sklearn\\linear_model\\_coordinate_descent.py:530: ConvergenceWarning: Objective did not converge. You might want to increase the number of iterations. Duality gap: 9098.878153819162, tolerance: 32.922124448123604\n",
      "  model = cd_fast.enet_coordinate_descent(\n"
     ]
    },
    {
     "name": "stdout",
     "output_type": "stream",
     "text": [
      "coefficient  6.663813082875748 [ 0.00000000e+00 -0.00000000e+00  0.00000000e+00 ...  8.21981385e-08\n",
      "  4.66171933e-07 -1.04839646e-06]\n"
     ]
    },
    {
     "name": "stderr",
     "output_type": "stream",
     "text": [
      "C:\\Users\\rkhna\\AppData\\Local\\Packages\\PythonSoftwareFoundation.Python.3.9_qbz5n2kfra8p0\\LocalCache\\local-packages\\Python39\\site-packages\\sklearn\\linear_model\\_coordinate_descent.py:530: ConvergenceWarning: Objective did not converge. You might want to increase the number of iterations. Duality gap: 1382.3182042459982, tolerance: 7.356538810545679\n",
      "  model = cd_fast.enet_coordinate_descent(\n",
      "C:\\Users\\rkhna\\AppData\\Local\\Packages\\PythonSoftwareFoundation.Python.3.9_qbz5n2kfra8p0\\LocalCache\\local-packages\\Python39\\site-packages\\sklearn\\linear_model\\_coordinate_descent.py:530: ConvergenceWarning: Objective did not converge. You might want to increase the number of iterations. Duality gap: 1358.21131978068, tolerance: 7.307520539546292\n",
      "  model = cd_fast.enet_coordinate_descent(\n",
      "C:\\Users\\rkhna\\AppData\\Local\\Packages\\PythonSoftwareFoundation.Python.3.9_qbz5n2kfra8p0\\LocalCache\\local-packages\\Python39\\site-packages\\sklearn\\linear_model\\_coordinate_descent.py:530: ConvergenceWarning: Objective did not converge. You might want to increase the number of iterations. Duality gap: 1279.5718841522928, tolerance: 7.192923605150215\n",
      "  model = cd_fast.enet_coordinate_descent(\n",
      "C:\\Users\\rkhna\\AppData\\Local\\Packages\\PythonSoftwareFoundation.Python.3.9_qbz5n2kfra8p0\\LocalCache\\local-packages\\Python39\\site-packages\\sklearn\\linear_model\\_coordinate_descent.py:530: ConvergenceWarning: Objective did not converge. You might want to increase the number of iterations. Duality gap: 1377.203466500074, tolerance: 7.308964460784315\n",
      "  model = cd_fast.enet_coordinate_descent(\n",
      "C:\\Users\\rkhna\\AppData\\Local\\Packages\\PythonSoftwareFoundation.Python.3.9_qbz5n2kfra8p0\\LocalCache\\local-packages\\Python39\\site-packages\\sklearn\\linear_model\\_coordinate_descent.py:530: ConvergenceWarning: Objective did not converge. You might want to increase the number of iterations. Duality gap: 1320.530526398403, tolerance: 7.3645009191176465\n",
      "  model = cd_fast.enet_coordinate_descent(\n",
      "C:\\Users\\rkhna\\AppData\\Local\\Packages\\PythonSoftwareFoundation.Python.3.9_qbz5n2kfra8p0\\LocalCache\\local-packages\\Python39\\site-packages\\sklearn\\linear_model\\_coordinate_descent.py:530: ConvergenceWarning: Objective did not converge. You might want to increase the number of iterations. Duality gap: 1332.7857408878217, tolerance: 7.302921997549022\n",
      "  model = cd_fast.enet_coordinate_descent(\n",
      "C:\\Users\\rkhna\\AppData\\Local\\Packages\\PythonSoftwareFoundation.Python.3.9_qbz5n2kfra8p0\\LocalCache\\local-packages\\Python39\\site-packages\\sklearn\\linear_model\\_coordinate_descent.py:530: ConvergenceWarning: Objective did not converge. You might want to increase the number of iterations. Duality gap: 1329.8151168511718, tolerance: 7.142982291666666\n",
      "  model = cd_fast.enet_coordinate_descent(\n",
      "C:\\Users\\rkhna\\AppData\\Local\\Packages\\PythonSoftwareFoundation.Python.3.9_qbz5n2kfra8p0\\LocalCache\\local-packages\\Python39\\site-packages\\sklearn\\linear_model\\_coordinate_descent.py:530: ConvergenceWarning: Objective did not converge. You might want to increase the number of iterations. Duality gap: 1301.361262113288, tolerance: 7.175901960784317\n",
      "  model = cd_fast.enet_coordinate_descent(\n",
      "C:\\Users\\rkhna\\AppData\\Local\\Packages\\PythonSoftwareFoundation.Python.3.9_qbz5n2kfra8p0\\LocalCache\\local-packages\\Python39\\site-packages\\sklearn\\linear_model\\_coordinate_descent.py:530: ConvergenceWarning: Objective did not converge. You might want to increase the number of iterations. Duality gap: 1279.231007193995, tolerance: 7.219673468137254\n",
      "  model = cd_fast.enet_coordinate_descent(\n",
      "C:\\Users\\rkhna\\AppData\\Local\\Packages\\PythonSoftwareFoundation.Python.3.9_qbz5n2kfra8p0\\LocalCache\\local-packages\\Python39\\site-packages\\sklearn\\linear_model\\_coordinate_descent.py:530: ConvergenceWarning: Objective did not converge. You might want to increase the number of iterations. Duality gap: 1266.0689836564452, tolerance: 7.401008272058824\n",
      "  model = cd_fast.enet_coordinate_descent(\n"
     ]
    },
    {
     "name": "stdout",
     "output_type": "stream",
     "text": [
      "SCORE: 0.936, MSE:2.41, RMSE:1.55\n",
      "r2_score - 0.9466990965627657\n",
      "5 0.1\n"
     ]
    },
    {
     "name": "stderr",
     "output_type": "stream",
     "text": [
      "C:\\Users\\rkhna\\AppData\\Local\\Packages\\PythonSoftwareFoundation.Python.3.9_qbz5n2kfra8p0\\LocalCache\\local-packages\\Python39\\site-packages\\sklearn\\linear_model\\_coordinate_descent.py:530: ConvergenceWarning: Objective did not converge. You might want to increase the number of iterations. Duality gap: 8874.2792819154, tolerance: 32.922124448123604\n",
      "  model = cd_fast.enet_coordinate_descent(\n"
     ]
    },
    {
     "name": "stdout",
     "output_type": "stream",
     "text": [
      "coefficient  6.337036599298325 [ 0.00000000e+00 -0.00000000e+00  0.00000000e+00 ...  6.57817008e-08\n",
      "  4.49483853e-07 -1.05211459e-06]\n"
     ]
    },
    {
     "name": "stderr",
     "output_type": "stream",
     "text": [
      "C:\\Users\\rkhna\\AppData\\Local\\Packages\\PythonSoftwareFoundation.Python.3.9_qbz5n2kfra8p0\\LocalCache\\local-packages\\Python39\\site-packages\\sklearn\\linear_model\\_coordinate_descent.py:530: ConvergenceWarning: Objective did not converge. You might want to increase the number of iterations. Duality gap: 1330.3896055543094, tolerance: 7.356538810545679\n",
      "  model = cd_fast.enet_coordinate_descent(\n",
      "C:\\Users\\rkhna\\AppData\\Local\\Packages\\PythonSoftwareFoundation.Python.3.9_qbz5n2kfra8p0\\LocalCache\\local-packages\\Python39\\site-packages\\sklearn\\linear_model\\_coordinate_descent.py:530: ConvergenceWarning: Objective did not converge. You might want to increase the number of iterations. Duality gap: 1308.5612421528915, tolerance: 7.307520539546292\n",
      "  model = cd_fast.enet_coordinate_descent(\n",
      "C:\\Users\\rkhna\\AppData\\Local\\Packages\\PythonSoftwareFoundation.Python.3.9_qbz5n2kfra8p0\\LocalCache\\local-packages\\Python39\\site-packages\\sklearn\\linear_model\\_coordinate_descent.py:530: ConvergenceWarning: Objective did not converge. You might want to increase the number of iterations. Duality gap: 1228.9858085003575, tolerance: 7.192923605150215\n",
      "  model = cd_fast.enet_coordinate_descent(\n",
      "C:\\Users\\rkhna\\AppData\\Local\\Packages\\PythonSoftwareFoundation.Python.3.9_qbz5n2kfra8p0\\LocalCache\\local-packages\\Python39\\site-packages\\sklearn\\linear_model\\_coordinate_descent.py:530: ConvergenceWarning: Objective did not converge. You might want to increase the number of iterations. Duality gap: 1326.0965544689263, tolerance: 7.308964460784315\n",
      "  model = cd_fast.enet_coordinate_descent(\n",
      "C:\\Users\\rkhna\\AppData\\Local\\Packages\\PythonSoftwareFoundation.Python.3.9_qbz5n2kfra8p0\\LocalCache\\local-packages\\Python39\\site-packages\\sklearn\\linear_model\\_coordinate_descent.py:530: ConvergenceWarning: Objective did not converge. You might want to increase the number of iterations. Duality gap: 1269.6990845104642, tolerance: 7.3645009191176465\n",
      "  model = cd_fast.enet_coordinate_descent(\n",
      "C:\\Users\\rkhna\\AppData\\Local\\Packages\\PythonSoftwareFoundation.Python.3.9_qbz5n2kfra8p0\\LocalCache\\local-packages\\Python39\\site-packages\\sklearn\\linear_model\\_coordinate_descent.py:530: ConvergenceWarning: Objective did not converge. You might want to increase the number of iterations. Duality gap: 1285.3085857554959, tolerance: 7.302921997549022\n",
      "  model = cd_fast.enet_coordinate_descent(\n",
      "C:\\Users\\rkhna\\AppData\\Local\\Packages\\PythonSoftwareFoundation.Python.3.9_qbz5n2kfra8p0\\LocalCache\\local-packages\\Python39\\site-packages\\sklearn\\linear_model\\_coordinate_descent.py:530: ConvergenceWarning: Objective did not converge. You might want to increase the number of iterations. Duality gap: 1281.0093933886997, tolerance: 7.142982291666666\n",
      "  model = cd_fast.enet_coordinate_descent(\n",
      "C:\\Users\\rkhna\\AppData\\Local\\Packages\\PythonSoftwareFoundation.Python.3.9_qbz5n2kfra8p0\\LocalCache\\local-packages\\Python39\\site-packages\\sklearn\\linear_model\\_coordinate_descent.py:530: ConvergenceWarning: Objective did not converge. You might want to increase the number of iterations. Duality gap: 1252.2009905478278, tolerance: 7.175901960784317\n",
      "  model = cd_fast.enet_coordinate_descent(\n",
      "C:\\Users\\rkhna\\AppData\\Local\\Packages\\PythonSoftwareFoundation.Python.3.9_qbz5n2kfra8p0\\LocalCache\\local-packages\\Python39\\site-packages\\sklearn\\linear_model\\_coordinate_descent.py:530: ConvergenceWarning: Objective did not converge. You might want to increase the number of iterations. Duality gap: 1226.828514768695, tolerance: 7.219673468137254\n",
      "  model = cd_fast.enet_coordinate_descent(\n",
      "C:\\Users\\rkhna\\AppData\\Local\\Packages\\PythonSoftwareFoundation.Python.3.9_qbz5n2kfra8p0\\LocalCache\\local-packages\\Python39\\site-packages\\sklearn\\linear_model\\_coordinate_descent.py:530: ConvergenceWarning: Objective did not converge. You might want to increase the number of iterations. Duality gap: 1217.4057215175108, tolerance: 7.401008272058824\n",
      "  model = cd_fast.enet_coordinate_descent(\n"
     ]
    },
    {
     "name": "stdout",
     "output_type": "stream",
     "text": [
      "SCORE: 0.937, MSE:2.39, RMSE:1.55\n",
      "r2_score - 0.947255705964873\n",
      "10 0.05\n"
     ]
    },
    {
     "name": "stderr",
     "output_type": "stream",
     "text": [
      "C:\\Users\\rkhna\\AppData\\Local\\Packages\\PythonSoftwareFoundation.Python.3.9_qbz5n2kfra8p0\\LocalCache\\local-packages\\Python39\\site-packages\\sklearn\\linear_model\\_coordinate_descent.py:530: ConvergenceWarning: Objective did not converge. You might want to increase the number of iterations. Duality gap: 8638.393212995385, tolerance: 32.922124448123604\n",
      "  model = cd_fast.enet_coordinate_descent(\n"
     ]
    },
    {
     "name": "stdout",
     "output_type": "stream",
     "text": [
      "coefficient  6.1956569913352 [ 0.00000000e+00 -0.00000000e+00  0.00000000e+00 ...  6.16992340e-08\n",
      "  4.18649436e-07 -1.03568142e-06]\n"
     ]
    },
    {
     "name": "stderr",
     "output_type": "stream",
     "text": [
      "C:\\Users\\rkhna\\AppData\\Local\\Packages\\PythonSoftwareFoundation.Python.3.9_qbz5n2kfra8p0\\LocalCache\\local-packages\\Python39\\site-packages\\sklearn\\linear_model\\_coordinate_descent.py:530: ConvergenceWarning: Objective did not converge. You might want to increase the number of iterations. Duality gap: 1271.9633393412164, tolerance: 7.356538810545679\n",
      "  model = cd_fast.enet_coordinate_descent(\n",
      "C:\\Users\\rkhna\\AppData\\Local\\Packages\\PythonSoftwareFoundation.Python.3.9_qbz5n2kfra8p0\\LocalCache\\local-packages\\Python39\\site-packages\\sklearn\\linear_model\\_coordinate_descent.py:530: ConvergenceWarning: Objective did not converge. You might want to increase the number of iterations. Duality gap: 1251.6523893751291, tolerance: 7.307520539546292\n",
      "  model = cd_fast.enet_coordinate_descent(\n",
      "C:\\Users\\rkhna\\AppData\\Local\\Packages\\PythonSoftwareFoundation.Python.3.9_qbz5n2kfra8p0\\LocalCache\\local-packages\\Python39\\site-packages\\sklearn\\linear_model\\_coordinate_descent.py:530: ConvergenceWarning: Objective did not converge. You might want to increase the number of iterations. Duality gap: 1171.4470643718735, tolerance: 7.192923605150215\n",
      "  model = cd_fast.enet_coordinate_descent(\n",
      "C:\\Users\\rkhna\\AppData\\Local\\Packages\\PythonSoftwareFoundation.Python.3.9_qbz5n2kfra8p0\\LocalCache\\local-packages\\Python39\\site-packages\\sklearn\\linear_model\\_coordinate_descent.py:530: ConvergenceWarning: Objective did not converge. You might want to increase the number of iterations. Duality gap: 1266.283768301216, tolerance: 7.308964460784315\n",
      "  model = cd_fast.enet_coordinate_descent(\n",
      "C:\\Users\\rkhna\\AppData\\Local\\Packages\\PythonSoftwareFoundation.Python.3.9_qbz5n2kfra8p0\\LocalCache\\local-packages\\Python39\\site-packages\\sklearn\\linear_model\\_coordinate_descent.py:530: ConvergenceWarning: Objective did not converge. You might want to increase the number of iterations. Duality gap: 1211.9477352914737, tolerance: 7.3645009191176465\n",
      "  model = cd_fast.enet_coordinate_descent(\n",
      "C:\\Users\\rkhna\\AppData\\Local\\Packages\\PythonSoftwareFoundation.Python.3.9_qbz5n2kfra8p0\\LocalCache\\local-packages\\Python39\\site-packages\\sklearn\\linear_model\\_coordinate_descent.py:530: ConvergenceWarning: Objective did not converge. You might want to increase the number of iterations. Duality gap: 1227.6924933238547, tolerance: 7.302921997549022\n",
      "  model = cd_fast.enet_coordinate_descent(\n",
      "C:\\Users\\rkhna\\AppData\\Local\\Packages\\PythonSoftwareFoundation.Python.3.9_qbz5n2kfra8p0\\LocalCache\\local-packages\\Python39\\site-packages\\sklearn\\linear_model\\_coordinate_descent.py:530: ConvergenceWarning: Objective did not converge. You might want to increase the number of iterations. Duality gap: 1223.2595707484015, tolerance: 7.142982291666666\n",
      "  model = cd_fast.enet_coordinate_descent(\n",
      "C:\\Users\\rkhna\\AppData\\Local\\Packages\\PythonSoftwareFoundation.Python.3.9_qbz5n2kfra8p0\\LocalCache\\local-packages\\Python39\\site-packages\\sklearn\\linear_model\\_coordinate_descent.py:530: ConvergenceWarning: Objective did not converge. You might want to increase the number of iterations. Duality gap: 1194.7664412137212, tolerance: 7.175901960784317\n",
      "  model = cd_fast.enet_coordinate_descent(\n",
      "C:\\Users\\rkhna\\AppData\\Local\\Packages\\PythonSoftwareFoundation.Python.3.9_qbz5n2kfra8p0\\LocalCache\\local-packages\\Python39\\site-packages\\sklearn\\linear_model\\_coordinate_descent.py:530: ConvergenceWarning: Objective did not converge. You might want to increase the number of iterations. Duality gap: 1168.2469329079945, tolerance: 7.219673468137254\n",
      "  model = cd_fast.enet_coordinate_descent(\n",
      "C:\\Users\\rkhna\\AppData\\Local\\Packages\\PythonSoftwareFoundation.Python.3.9_qbz5n2kfra8p0\\LocalCache\\local-packages\\Python39\\site-packages\\sklearn\\linear_model\\_coordinate_descent.py:530: ConvergenceWarning: Objective did not converge. You might want to increase the number of iterations. Duality gap: 1162.6693403913566, tolerance: 7.401008272058824\n",
      "  model = cd_fast.enet_coordinate_descent(\n"
     ]
    },
    {
     "name": "stdout",
     "output_type": "stream",
     "text": [
      "SCORE: 0.937, MSE:2.37, RMSE:1.54\n",
      "r2_score - 0.9476828816540198\n",
      "50 0.01\n"
     ]
    },
    {
     "name": "stderr",
     "output_type": "stream",
     "text": [
      "C:\\Users\\rkhna\\AppData\\Local\\Packages\\PythonSoftwareFoundation.Python.3.9_qbz5n2kfra8p0\\LocalCache\\local-packages\\Python39\\site-packages\\sklearn\\linear_model\\_coordinate_descent.py:530: ConvergenceWarning: Objective did not converge. You might want to increase the number of iterations. Duality gap: 8292.46772496012, tolerance: 32.922124448123604\n",
      "  model = cd_fast.enet_coordinate_descent(\n"
     ]
    },
    {
     "name": "stdout",
     "output_type": "stream",
     "text": [
      "coefficient  6.510387452444264 [ 0.00000000e+00 -0.00000000e+00  2.35689066e-01 ...  1.01048091e-07\n",
      "  3.61491035e-07 -1.02974035e-06]\n"
     ]
    },
    {
     "name": "stderr",
     "output_type": "stream",
     "text": [
      "C:\\Users\\rkhna\\AppData\\Local\\Packages\\PythonSoftwareFoundation.Python.3.9_qbz5n2kfra8p0\\LocalCache\\local-packages\\Python39\\site-packages\\sklearn\\linear_model\\_coordinate_descent.py:530: ConvergenceWarning: Objective did not converge. You might want to increase the number of iterations. Duality gap: 1191.9531846472423, tolerance: 7.356538810545679\n",
      "  model = cd_fast.enet_coordinate_descent(\n",
      "C:\\Users\\rkhna\\AppData\\Local\\Packages\\PythonSoftwareFoundation.Python.3.9_qbz5n2kfra8p0\\LocalCache\\local-packages\\Python39\\site-packages\\sklearn\\linear_model\\_coordinate_descent.py:530: ConvergenceWarning: Objective did not converge. You might want to increase the number of iterations. Duality gap: 1173.4567809081802, tolerance: 7.307520539546292\n",
      "  model = cd_fast.enet_coordinate_descent(\n",
      "C:\\Users\\rkhna\\AppData\\Local\\Packages\\PythonSoftwareFoundation.Python.3.9_qbz5n2kfra8p0\\LocalCache\\local-packages\\Python39\\site-packages\\sklearn\\linear_model\\_coordinate_descent.py:530: ConvergenceWarning: Objective did not converge. You might want to increase the number of iterations. Duality gap: 1090.750019304724, tolerance: 7.192923605150215\n",
      "  model = cd_fast.enet_coordinate_descent(\n",
      "C:\\Users\\rkhna\\AppData\\Local\\Packages\\PythonSoftwareFoundation.Python.3.9_qbz5n2kfra8p0\\LocalCache\\local-packages\\Python39\\site-packages\\sklearn\\linear_model\\_coordinate_descent.py:530: ConvergenceWarning: Objective did not converge. You might want to increase the number of iterations. Duality gap: 1186.5789111541237, tolerance: 7.308964460784315\n",
      "  model = cd_fast.enet_coordinate_descent(\n",
      "C:\\Users\\rkhna\\AppData\\Local\\Packages\\PythonSoftwareFoundation.Python.3.9_qbz5n2kfra8p0\\LocalCache\\local-packages\\Python39\\site-packages\\sklearn\\linear_model\\_coordinate_descent.py:530: ConvergenceWarning: Objective did not converge. You might want to increase the number of iterations. Duality gap: 1133.109966419584, tolerance: 7.3645009191176465\n",
      "  model = cd_fast.enet_coordinate_descent(\n",
      "C:\\Users\\rkhna\\AppData\\Local\\Packages\\PythonSoftwareFoundation.Python.3.9_qbz5n2kfra8p0\\LocalCache\\local-packages\\Python39\\site-packages\\sklearn\\linear_model\\_coordinate_descent.py:530: ConvergenceWarning: Objective did not converge. You might want to increase the number of iterations. Duality gap: 1148.0820146794258, tolerance: 7.302921997549022\n",
      "  model = cd_fast.enet_coordinate_descent(\n",
      "C:\\Users\\rkhna\\AppData\\Local\\Packages\\PythonSoftwareFoundation.Python.3.9_qbz5n2kfra8p0\\LocalCache\\local-packages\\Python39\\site-packages\\sklearn\\linear_model\\_coordinate_descent.py:530: ConvergenceWarning: Objective did not converge. You might want to increase the number of iterations. Duality gap: 1145.8480176482271, tolerance: 7.142982291666666\n",
      "  model = cd_fast.enet_coordinate_descent(\n",
      "C:\\Users\\rkhna\\AppData\\Local\\Packages\\PythonSoftwareFoundation.Python.3.9_qbz5n2kfra8p0\\LocalCache\\local-packages\\Python39\\site-packages\\sklearn\\linear_model\\_coordinate_descent.py:530: ConvergenceWarning: Objective did not converge. You might want to increase the number of iterations. Duality gap: 1120.680659937624, tolerance: 7.175901960784317\n",
      "  model = cd_fast.enet_coordinate_descent(\n",
      "C:\\Users\\rkhna\\AppData\\Local\\Packages\\PythonSoftwareFoundation.Python.3.9_qbz5n2kfra8p0\\LocalCache\\local-packages\\Python39\\site-packages\\sklearn\\linear_model\\_coordinate_descent.py:530: ConvergenceWarning: Objective did not converge. You might want to increase the number of iterations. Duality gap: 1092.801063934414, tolerance: 7.219673468137254\n",
      "  model = cd_fast.enet_coordinate_descent(\n",
      "C:\\Users\\rkhna\\AppData\\Local\\Packages\\PythonSoftwareFoundation.Python.3.9_qbz5n2kfra8p0\\LocalCache\\local-packages\\Python39\\site-packages\\sklearn\\linear_model\\_coordinate_descent.py:530: ConvergenceWarning: Objective did not converge. You might want to increase the number of iterations. Duality gap: 1086.3915935046853, tolerance: 7.401008272058824\n",
      "  model = cd_fast.enet_coordinate_descent(\n"
     ]
    },
    {
     "name": "stdout",
     "output_type": "stream",
     "text": [
      "SCORE: 0.938, MSE:2.35, RMSE:1.53\n",
      "r2_score - 0.9481144540824624\n",
      "100 0.005\n"
     ]
    },
    {
     "name": "stderr",
     "output_type": "stream",
     "text": [
      "C:\\Users\\rkhna\\AppData\\Local\\Packages\\PythonSoftwareFoundation.Python.3.9_qbz5n2kfra8p0\\LocalCache\\local-packages\\Python39\\site-packages\\sklearn\\linear_model\\_coordinate_descent.py:530: ConvergenceWarning: Objective did not converge. You might want to increase the number of iterations. Duality gap: 8220.899662259204, tolerance: 32.922124448123604\n",
      "  model = cd_fast.enet_coordinate_descent(\n"
     ]
    },
    {
     "name": "stdout",
     "output_type": "stream",
     "text": [
      "coefficient  6.973945444046467 [ 0.00000000e+00 -0.00000000e+00  3.10796318e-01 ...  1.04615455e-07\n",
      "  3.47439569e-07 -1.02703124e-06]\n"
     ]
    },
    {
     "name": "stderr",
     "output_type": "stream",
     "text": [
      "C:\\Users\\rkhna\\AppData\\Local\\Packages\\PythonSoftwareFoundation.Python.3.9_qbz5n2kfra8p0\\LocalCache\\local-packages\\Python39\\site-packages\\sklearn\\linear_model\\_coordinate_descent.py:530: ConvergenceWarning: Objective did not converge. You might want to increase the number of iterations. Duality gap: 1174.459449878104, tolerance: 7.356538810545679\n",
      "  model = cd_fast.enet_coordinate_descent(\n",
      "C:\\Users\\rkhna\\AppData\\Local\\Packages\\PythonSoftwareFoundation.Python.3.9_qbz5n2kfra8p0\\LocalCache\\local-packages\\Python39\\site-packages\\sklearn\\linear_model\\_coordinate_descent.py:530: ConvergenceWarning: Objective did not converge. You might want to increase the number of iterations. Duality gap: 1156.4698070528475, tolerance: 7.307520539546292\n",
      "  model = cd_fast.enet_coordinate_descent(\n",
      "C:\\Users\\rkhna\\AppData\\Local\\Packages\\PythonSoftwareFoundation.Python.3.9_qbz5n2kfra8p0\\LocalCache\\local-packages\\Python39\\site-packages\\sklearn\\linear_model\\_coordinate_descent.py:530: ConvergenceWarning: Objective did not converge. You might want to increase the number of iterations. Duality gap: 1074.663181990022, tolerance: 7.192923605150215\n",
      "  model = cd_fast.enet_coordinate_descent(\n",
      "C:\\Users\\rkhna\\AppData\\Local\\Packages\\PythonSoftwareFoundation.Python.3.9_qbz5n2kfra8p0\\LocalCache\\local-packages\\Python39\\site-packages\\sklearn\\linear_model\\_coordinate_descent.py:530: ConvergenceWarning: Objective did not converge. You might want to increase the number of iterations. Duality gap: 1168.559885440238, tolerance: 7.308964460784315\n",
      "  model = cd_fast.enet_coordinate_descent(\n",
      "C:\\Users\\rkhna\\AppData\\Local\\Packages\\PythonSoftwareFoundation.Python.3.9_qbz5n2kfra8p0\\LocalCache\\local-packages\\Python39\\site-packages\\sklearn\\linear_model\\_coordinate_descent.py:530: ConvergenceWarning: Objective did not converge. You might want to increase the number of iterations. Duality gap: 1115.3937772381043, tolerance: 7.3645009191176465\n",
      "  model = cd_fast.enet_coordinate_descent(\n",
      "C:\\Users\\rkhna\\AppData\\Local\\Packages\\PythonSoftwareFoundation.Python.3.9_qbz5n2kfra8p0\\LocalCache\\local-packages\\Python39\\site-packages\\sklearn\\linear_model\\_coordinate_descent.py:530: ConvergenceWarning: Objective did not converge. You might want to increase the number of iterations. Duality gap: 1129.990571050869, tolerance: 7.302921997549022\n",
      "  model = cd_fast.enet_coordinate_descent(\n",
      "C:\\Users\\rkhna\\AppData\\Local\\Packages\\PythonSoftwareFoundation.Python.3.9_qbz5n2kfra8p0\\LocalCache\\local-packages\\Python39\\site-packages\\sklearn\\linear_model\\_coordinate_descent.py:530: ConvergenceWarning: Objective did not converge. You might want to increase the number of iterations. Duality gap: 1128.501703602312, tolerance: 7.142982291666666\n",
      "  model = cd_fast.enet_coordinate_descent(\n",
      "C:\\Users\\rkhna\\AppData\\Local\\Packages\\PythonSoftwareFoundation.Python.3.9_qbz5n2kfra8p0\\LocalCache\\local-packages\\Python39\\site-packages\\sklearn\\linear_model\\_coordinate_descent.py:530: ConvergenceWarning: Objective did not converge. You might want to increase the number of iterations. Duality gap: 1104.5127226651862, tolerance: 7.175901960784317\n",
      "  model = cd_fast.enet_coordinate_descent(\n",
      "C:\\Users\\rkhna\\AppData\\Local\\Packages\\PythonSoftwareFoundation.Python.3.9_qbz5n2kfra8p0\\LocalCache\\local-packages\\Python39\\site-packages\\sklearn\\linear_model\\_coordinate_descent.py:530: ConvergenceWarning: Objective did not converge. You might want to increase the number of iterations. Duality gap: 1075.8857962016427, tolerance: 7.219673468137254\n",
      "  model = cd_fast.enet_coordinate_descent(\n",
      "C:\\Users\\rkhna\\AppData\\Local\\Packages\\PythonSoftwareFoundation.Python.3.9_qbz5n2kfra8p0\\LocalCache\\local-packages\\Python39\\site-packages\\sklearn\\linear_model\\_coordinate_descent.py:530: ConvergenceWarning: Objective did not converge. You might want to increase the number of iterations. Duality gap: 1067.9360320468672, tolerance: 7.401008272058824\n",
      "  model = cd_fast.enet_coordinate_descent(\n"
     ]
    },
    {
     "name": "stdout",
     "output_type": "stream",
     "text": [
      "SCORE: 0.938, MSE:2.35, RMSE:1.53\n",
      "r2_score - 0.9481349184513405\n"
     ]
    }
   ],
   "source": [
    "# find out C\n",
    "\n",
    "from sklearn.metrics import r2_score\n",
    "from sklearn.linear_model import Lasso\n",
    "from sklearn.linear_model import Ridge\n",
    "from sklearn.metrics import r2_score\n",
    "from sklearn.metrics import mean_squared_error\n",
    "from sklearn.model_selection  import cross_val_score\n",
    "from sklearn.model_selection import train_test_split\n",
    "from sklearn.preprocessing import PolynomialFeatures\n",
    "import math\n",
    "\n",
    "t_full = pd.array(pd.DatetimeIndex(suburb_df.iloc[:,1]).astype(np.int64))/1000000000\n",
    "dt = t_full[1]-t_full[0]\n",
    "\n",
    "day_of_month = suburb_df['day_of_month']\n",
    "hour = suburb_df['hour']\n",
    "\n",
    "q=2\n",
    "lag=3\n",
    "stride=1\n",
    "w=math.floor(7*24*60*60/dt)\n",
    "length = bikes.size - w - lag * w - q\n",
    "XX=bikes[q:q+length:stride]\n",
    "X1 = day_of_month[q:q+length:stride]\n",
    "X2 = hour[q:q+length:stride]\n",
    "XX=np.column_stack((XX,X1, X2))\n",
    "#week\n",
    "for i in range(1,lag):\n",
    "    X=bikes[i*w+q:i*w+q+length:stride]\n",
    "    X1 = day_of_month[i*w+q:i*w+q+length:stride]\n",
    "    X2 = hour[i*w+q:i*w+q+length:stride]\n",
    "    XX=np.column_stack((XX,X, X1, X2))\n",
    "d=math.floor(24*60*60/dt)\n",
    "#days\n",
    "for i in range(0,lag):\n",
    "    X=bikes[i*d+q:i*d+q+length:stride]\n",
    "    X1=day_of_month[i*d+q:i*d+q+length:stride]\n",
    "    X2=hour[i*d+q:i*d+q+length:stride]\n",
    "    XX=np.column_stack((XX,X, X1, X2))\n",
    "\n",
    "for i in range(0,lag):\n",
    "    X=bikes[i:i+length:stride]\n",
    "    X1=day_of_month[i:i+length:stride]\n",
    "    X2=hour[i:i+length:stride]\n",
    "    XX=np.column_stack((XX,X, X1, X2))\n",
    "\n",
    "yy=bikes[lag*w+w+q:lag*w+w+q+length:stride] \n",
    "tt=time[lag*w+w+q:lag*w+w+q+length:stride]\n",
    "\n",
    "yy.reset_index(drop=True, inplace=True)\n",
    "tt.reset_index(drop=True, inplace=True)\n",
    "\n",
    "train, test = train_test_split(np.arange(0,yy.size),test_size=0.2)\n",
    "\n",
    "coeff = []\n",
    "alphas = []\n",
    "errors = []\n",
    "c_mean_error = []\n",
    "c_std_error = []\n",
    "\n",
    "C = [0.01, 0.1, 1, 3, 5, 10, 50,  100]\n",
    "\n",
    "for Ci in C:\n",
    "    c_temp = []\n",
    "    mean_error = []\n",
    "    std_error = []\n",
    "    XPoly = PolynomialFeatures(4).fit_transform(XX)\n",
    "    a = 1/(2*Ci)\n",
    "    print(Ci, a)\n",
    "    model = Lasso(alpha= a).fit(XPoly[train], yy[train])\n",
    "    print(\"coefficient \" ,model.intercept_, model.coef_)\n",
    "    coeff.append(model.coef_)\n",
    "    alphas.append(a)\n",
    "    y_pred = model.predict(XPoly)\n",
    "    score = model.score(XPoly[test], yy[test])\n",
    "    cross_val = cross_val_score(model, XPoly[test], yy[test], cv=10)\n",
    "    c_mean_error.append(np.mean(cross_val))\n",
    "    c_std_error.append(np.std(cross_val))\n",
    "    # scores = cross_val_score(model, XX[test], yy[test], cv=5, scoring='f1')\n",
    "    mse = mean_squared_error(yy,y_pred)\n",
    "    errors.append(np.sqrt(mse))\n",
    "    print(\"SCORE: {0:.3f}, MSE:{1:.2f}, RMSE:{2:.2f}\"\n",
    "   .format(score,  mse,np.sqrt(mse)))\n",
    "    print(f'r2_score - {r2_score(yy,y_pred)}')\n",
    "\n",
    "plt.close(\"all\")\n",
    "fig, (ax1, ax2, ax3) = plt.subplots(1, 3)\n",
    "#fig=plt.figure()\n",
    "#ax1=fig.add_subplot(111)\n",
    "ax1.plot(alphas,coeff)\n",
    "ax1.set_xlabel('Alpha (Regularization Parameter)')\n",
    "ax1.set_ylabel('Beta (Predictor Coefficients)')\n",
    "ax1.set_title('Ridge Coefficients vs Regularization Parameters')\n",
    "ax1.axis('tight')\n",
    "\n",
    "ax2.errorbar(C, c_mean_error, yerr=c_std_error)\n",
    "#ax2.set_xticks(C)\n",
    "ax2.set_xlabel(\"ploynomial value\")\n",
    "ax2.set_ylabel(\"error\")\n",
    "ax2.set_title(\"Error vs polynomial\")\n",
    "ax2.axis(\"tight\")\n",
    "\n",
    "ax3 = plt.gca()\n",
    "ax3.ticklabel_format(useOffset=False)\n",
    "errors = [round(num, 5) for num in errors]\n",
    "ax3.plot(alphas, errors)\n",
    "ax3.set_xlabel(\"alpha\")\n",
    "ax3.set_ylabel(\"RMSE error\")\n",
    "ax3.set_title(\"Coefficient error as a function of the regularization\")\n",
    "ax3.axis(\"tight\")\n",
    "fig.show()"
   ]
  },
  {
   "cell_type": "code",
   "execution_count": 39,
   "id": "36d18528",
   "metadata": {},
   "outputs": [],
   "source": [
    "fig, ax2 = plt.subplots()\n",
    "ax2.errorbar(C, c_mean_error, yerr=c_std_error)\n",
    "#ax2.set_xticks(C)\n",
    "ax2.set_xlabel(\"ploynomial value\")\n",
    "ax2.set_ylabel(\"error\")\n",
    "ax2.set_title(\"Merrion Error vs polynomial\")\n",
    "ax2.axis(\"tight\")\n",
    "fig.show()"
   ]
  },
  {
   "cell_type": "code",
   "execution_count": 28,
   "id": "4d9adcd9",
   "metadata": {},
   "outputs": [
    {
     "name": "stderr",
     "output_type": "stream",
     "text": [
      "C:\\Users\\rkhna\\AppData\\Local\\Temp/ipykernel_7940/2445253717.py:12: FutureWarning: casting datetime64[ns] values to int64 with .astype(...) is deprecated and will raise in a future version. Use .view(...) instead.\n",
      "  t_full = pd.array(pd.DatetimeIndex(suburb_df.iloc[:,1]).astype(np.int64))/1000000000\n"
     ]
    },
    {
     "name": "stdout",
     "output_type": "stream",
     "text": [
      "Alpha & Ci  Value - 0.01 50\n",
      "q value - 12\n"
     ]
    },
    {
     "name": "stderr",
     "output_type": "stream",
     "text": [
      "C:\\Users\\rkhna\\AppData\\Local\\Packages\\PythonSoftwareFoundation.Python.3.9_qbz5n2kfra8p0\\LocalCache\\local-packages\\Python39\\site-packages\\sklearn\\linear_model\\_coordinate_descent.py:530: ConvergenceWarning: Objective did not converge. You might want to increase the number of iterations. Duality gap: 6882.267312067216, tolerance: 32.659037348066256\n",
      "  model = cd_fast.enet_coordinate_descent(\n"
     ]
    },
    {
     "name": "stdout",
     "output_type": "stream",
     "text": [
      "SCORE: 0.946, MSE:1.98, RMSE:1.41\n",
      "r2_score : 0.956320069444668\n",
      "\n"
     ]
    }
   ],
   "source": [
    "import math\n",
    "from sklearn.metrics import r2_score\n",
    "from sklearn.linear_model import Ridge\n",
    "from sklearn.metrics import r2_score\n",
    "from sklearn.metrics import mean_squared_error\n",
    "from sklearn.model_selection import train_test_split\n",
    "from sklearn.preprocessing import PolynomialFeatures\n",
    "\n",
    "#%matplotlib inline\n",
    "%matplotlib qt\n",
    "\n",
    "t_full = pd.array(pd.DatetimeIndex(suburb_df.iloc[:,1]).astype(np.int64))/1000000000\n",
    "dt = t_full[1]-t_full[0]\n",
    "\n",
    "day_of_month = suburb_df['day_of_month']\n",
    "hour = suburb_df['hour']\n",
    "\n",
    "def get_feature_data(q, lag, stride, bikes, time, dt):\n",
    "    w=math.floor(7*24*60*60/dt)\n",
    "    length = bikes.size - w - lag * w - q\n",
    "    XX=bikes[q:q+length:stride]\n",
    "    X1 = day_of_month[q:q+length:stride]\n",
    "    X2 = hour[q:q+length:stride]\n",
    "    XX=np.column_stack((XX,X1, X2))\n",
    "    #week\n",
    "    for i in range(1,lag):\n",
    "        X=bikes[i*w+q:i*w+q+length:stride]\n",
    "        X1 = day_of_month[i*w+q:i*w+q+length:stride]\n",
    "        X2 = hour[i*w+q:i*w+q+length:stride]\n",
    "        XX=np.column_stack((XX,X, X1, X2))\n",
    "    d=math.floor(24*60*60/dt)\n",
    "    #days\n",
    "    for i in range(0,lag):\n",
    "        X=bikes[i*d+q:i*d+q+length:stride]\n",
    "        X1=day_of_month[i*d+q:i*d+q+length:stride]\n",
    "        X2=hour[i*d+q:i*d+q+length:stride]\n",
    "        XX=np.column_stack((XX,X, X1, X2))\n",
    "\n",
    "    for i in range(0,lag):\n",
    "        X=bikes[i:i+length:stride]\n",
    "        X1=day_of_month[i:i+length:stride]\n",
    "        X2=hour[i:i+length:stride]\n",
    "        XX=np.column_stack((XX,X, X1, X2))\n",
    "\n",
    "    yy=bikes[lag*w+w+q:lag*w+w+q+length:stride] \n",
    "    tt=time[lag*w+w+q:lag*w+w+q+length:stride]\n",
    "\n",
    "    yy.reset_index(drop=True, inplace=True)\n",
    "    tt.reset_index(drop=True, inplace=True)\n",
    "    return XX, yy, tt\n",
    "\n",
    "\n",
    "def run_model(q, lag, stride, Ci, poly):\n",
    "    plt.close(\"all\")\n",
    "    fig, ax = plt.subplots()\n",
    "    XX, yy, tt = get_feature_data(q, lag, stride, bikes, time, dt)\n",
    "    train, test = train_test_split(np.arange(0,yy.size),test_size=0.2)\n",
    "\n",
    "    XPoly = PolynomialFeatures(poly).fit_transform(XX)\n",
    "    a = 1/(2*Ci)\n",
    "    print(f'Alpha & Ci  Value - {a} {Ci}')\n",
    "    print(f\"q value - {q}\")\n",
    "    model = Lasso(alpha= a).fit(XPoly[train], yy[train])\n",
    "    y_pred = model.predict(XPoly)\n",
    "    score = model.score(XPoly[test], yy[test])\n",
    "    #r2_score = r2_score(yy,y_pred)\n",
    "    mse = mean_squared_error(yy,y_pred)\n",
    "    print(\"SCORE: {0:.3f}, MSE:{1:.2f}, RMSE:{2:.2f}\" .format(score,  mse,np.sqrt(mse)))\n",
    "    r2 = r2_score(yy,y_pred)\n",
    "    print(f'r2_score : {r2}\\n')\n",
    "    ax.scatter(time, bikes, color=\"blue\")\n",
    "    ax.scatter(tt, y_pred, color=\"green\") \n",
    "    ax.set_xlabel(\"time (days)\")\n",
    "    ax.set_ylabel(\"#bikes\") \n",
    "    ax.set_title(f\"Ridge model for q = {q}\")\n",
    "    ax.legend([\"training data\",\"predictions\"],loc=\"upper right\") \n",
    "    ax.set_ylim([-10, 45])\n",
    "    fig.show()\n",
    "\n",
    "q = 12\n",
    "lag = 3\n",
    "stride = 1\n",
    "Ci = 50\n",
    "poly = 4\n",
    "run_model(q, lag, stride, Ci, poly)"
   ]
  },
  {
   "cell_type": "code",
   "execution_count": 42,
   "id": "059fd7d6",
   "metadata": {},
   "outputs": [
    {
     "name": "stderr",
     "output_type": "stream",
     "text": [
      "C:\\Users\\rkhna\\AppData\\Local\\Temp/ipykernel_7940/4189380681.py:15: FutureWarning: casting datetime64[ns] values to int64 with .astype(...) is deprecated and will raise in a future version. Use .view(...) instead.\n",
      "  t_full = pd.array(pd.DatetimeIndex(suburb_df.iloc[:,1]).astype(np.int64))/1000000000\n"
     ]
    },
    {
     "name": "stdout",
     "output_type": "stream",
     "text": [
      "Alpha & Ci  Value - 0.01 50\n",
      "q value - 2\n"
     ]
    },
    {
     "name": "stderr",
     "output_type": "stream",
     "text": [
      "C:\\Users\\rkhna\\AppData\\Local\\Packages\\PythonSoftwareFoundation.Python.3.9_qbz5n2kfra8p0\\LocalCache\\local-packages\\Python39\\site-packages\\sklearn\\linear_model\\_coordinate_descent.py:530: ConvergenceWarning: Objective did not converge. You might want to increase the number of iterations. Duality gap: 15168.323019498359, tolerance: 57.1932217301325\n",
      "  model = cd_fast.enet_coordinate_descent(\n"
     ]
    },
    {
     "name": "stdout",
     "output_type": "stream",
     "text": [
      "SCORE: 0.933, MSE:4.33, RMSE:2.08\n",
      "r2_score - 0.9450485153539341\n",
      "\n",
      "Alpha & Ci  Value - 0.01 50\n",
      "q value - 6\n"
     ]
    },
    {
     "name": "stderr",
     "output_type": "stream",
     "text": [
      "C:\\Users\\rkhna\\AppData\\Local\\Packages\\PythonSoftwareFoundation.Python.3.9_qbz5n2kfra8p0\\LocalCache\\local-packages\\Python39\\site-packages\\sklearn\\linear_model\\_coordinate_descent.py:530: ConvergenceWarning: Objective did not converge. You might want to increase the number of iterations. Duality gap: 14163.245971527123, tolerance: 57.324457336093815\n",
      "  model = cd_fast.enet_coordinate_descent(\n"
     ]
    },
    {
     "name": "stdout",
     "output_type": "stream",
     "text": [
      "SCORE: 0.935, MSE:4.07, RMSE:2.02\n",
      "r2_score - 0.9483532846242023\n",
      "\n",
      "Alpha & Ci  Value - 0.01 50\n",
      "q value - 12\n"
     ]
    },
    {
     "name": "stderr",
     "output_type": "stream",
     "text": [
      "C:\\Users\\rkhna\\AppData\\Local\\Packages\\PythonSoftwareFoundation.Python.3.9_qbz5n2kfra8p0\\LocalCache\\local-packages\\Python39\\site-packages\\sklearn\\linear_model\\_coordinate_descent.py:530: ConvergenceWarning: Objective did not converge. You might want to increase the number of iterations. Duality gap: 13358.0458344858, tolerance: 56.52356407458562\n",
      "  model = cd_fast.enet_coordinate_descent(\n"
     ]
    },
    {
     "name": "stdout",
     "output_type": "stream",
     "text": [
      "SCORE: 0.953, MSE:3.67, RMSE:1.92\n",
      "r2_score - 0.9534621005568733\n",
      "\n",
      "{'------------------------------'}\n",
      "q value 2 - score 0.9450485153539341\n",
      "q value 6 - score 0.9483532846242023\n",
      "q value 12 - score 0.9534621005568733\n"
     ]
    }
   ],
   "source": [
    "#final run with all identified parameters\n",
    "\n",
    "import math\n",
    "from sklearn.metrics import r2_score\n",
    "from sklearn.linear_model import Ridge\n",
    "from sklearn.metrics import r2_score\n",
    "from sklearn.metrics import mean_squared_error\n",
    "from sklearn.model_selection import train_test_split\n",
    "from sklearn.preprocessing import PolynomialFeatures\n",
    "\n",
    "#%matplotlib inline\n",
    "%matplotlib qt\n",
    "\n",
    "\n",
    "t_full = pd.array(pd.DatetimeIndex(suburb_df.iloc[:,1]).astype(np.int64))/1000000000\n",
    "dt = t_full[1]-t_full[0]\n",
    "\n",
    "def get_feature_data(q, lag, stride, bikes, time, dt):\n",
    "    w=math.floor(7*24*60*60/dt)\n",
    "    length = bikes.size - w - lag * w - q\n",
    "    XX=bikes[q:q+length:stride]\n",
    "    X1 = day_of_month[q:q+length:stride]\n",
    "    X2 = hour[q:q+length:stride]\n",
    "    XX=np.column_stack((XX,X1, X2))\n",
    "    #week\n",
    "    for i in range(1,lag):\n",
    "        X=bikes[i*w+q:i*w+q+length:stride]\n",
    "        X1 = day_of_month[i*w+q:i*w+q+length:stride]\n",
    "        X2 = hour[i*w+q:i*w+q+length:stride]\n",
    "        XX=np.column_stack((XX,X, X1, X2))\n",
    "    d=math.floor(24*60*60/dt)\n",
    "    #days\n",
    "    for i in range(0,lag):\n",
    "        X=bikes[i*d+q:i*d+q+length:stride]\n",
    "        X1=day_of_month[i*d+q:i*d+q+length:stride]\n",
    "        X2=hour[i*d+q:i*d+q+length:stride]\n",
    "        XX=np.column_stack((XX,X, X1, X2))\n",
    "\n",
    "    for i in range(0,lag):\n",
    "        X=bikes[i:i+length:stride]\n",
    "        X1=day_of_month[i:i+length:stride]\n",
    "        X2=hour[i:i+length:stride]\n",
    "        XX=np.column_stack((XX,X, X1, X2))\n",
    "\n",
    "    yy=bikes[lag*w+w+q:lag*w+w+q+length:stride] \n",
    "    tt=time[lag*w+w+q:lag*w+w+q+length:stride]\n",
    "\n",
    "    yy.reset_index(drop=True, inplace=True)\n",
    "    tt.reset_index(drop=True, inplace=True)\n",
    "    return XX, yy, tt\n",
    "\n",
    "qrange = [ 2, 6, 12]\n",
    "lag = 3\n",
    "stride = 1\n",
    "plt.close(\"all\")\n",
    "fig, ax = plt.subplots(3)\n",
    "ax_index = 0\n",
    "Ci = 50\n",
    "poly = 4\n",
    "q_score = {}\n",
    "xlim = -5\n",
    "ylim = 35 # 40 for Grangegorman\n",
    "for q in qrange:\n",
    "    XX, yy, tt = get_feature_data(q, lag, stride, bikes, time, dt)\n",
    "    train, test = train_test_split(np.arange(0,yy.size),test_size=0.2)\n",
    "\n",
    "    XPoly = PolynomialFeatures(poly).fit_transform(XX)\n",
    "    a = 1/(2*Ci)\n",
    "    print(f'Alpha & Ci  Value - {a} {Ci}')\n",
    "    print(f\"q value - {q}\")\n",
    "    model = Lasso(alpha= a).fit(XPoly[train], yy[train])\n",
    "    y_pred = model.predict(XPoly)\n",
    "    score = model.score(XPoly[test], yy[test])\n",
    "    #r2_score = r2_score(yy,y_pred)\n",
    "    mse = mean_squared_error(yy,y_pred)\n",
    "    print(\"SCORE: {0:.3f}, MSE:{1:.2f}, RMSE:{2:.2f}\" .format(score,  mse,np.sqrt(mse)))\n",
    "    r2 = r2_score(yy,y_pred)\n",
    "    print(f'r2_score - {r2}\\n')\n",
    "    q_score[q] = r2\n",
    "\n",
    "#     plt.close(\"all\")\n",
    "#     fig, ax = plt.subplots()\n",
    "\n",
    "    ax[ax_index].scatter(time, bikes, color=\"blue\")\n",
    "    ax[ax_index].scatter(tt, y_pred, color=\"green\") \n",
    "    ax[ax_index].set_xlabel(\"time (days)\")\n",
    "    ax[ax_index].set_ylabel(\"#bikes\") \n",
    "    ax[ax_index].set_title(f\"Merrion Square - Lasso model for q = {q}\")\n",
    "    ax[ax_index].legend([\"training data\",\"predictions\"],loc=\"upper right\")\n",
    "    ax[ax_index].set_ylim([xlim, ylim])\n",
    "    ax_index += 1\n",
    "print(({\"-\"*30}))\n",
    "for q, score in q_score.items():\n",
    "    print(f\"q value {q} - score {score}\")\n",
    "fig.show()"
   ]
  },
  {
   "cell_type": "code",
   "execution_count": 15,
   "id": "400be3ce",
   "metadata": {},
   "outputs": [
    {
     "name": "stderr",
     "output_type": "stream",
     "text": [
      "C:\\Users\\rkhna\\AppData\\Local\\Temp/ipykernel_7940/93863897.py:16: FutureWarning: casting datetime64[ns] values to int64 with .astype(...) is deprecated and will raise in a future version. Use .view(...) instead.\n",
      "  t_full = pd.array(pd.DatetimeIndex(suburb_df.iloc[:,1]).astype(np.int64))/1000000000\n"
     ]
    },
    {
     "name": "stdout",
     "output_type": "stream",
     "text": [
      "1\n",
      "10 0.05\n",
      "SCORE: 0.561, MSE:20.21, RMSE:4.50\n",
      "r2_score - 0.5533949449533094\n",
      "2\n",
      "10 0.05\n"
     ]
    },
    {
     "name": "stderr",
     "output_type": "stream",
     "text": [
      "C:\\Users\\rkhna\\AppData\\Local\\Packages\\PythonSoftwareFoundation.Python.3.9_qbz5n2kfra8p0\\LocalCache\\local-packages\\Python39\\site-packages\\sklearn\\linear_model\\_coordinate_descent.py:530: ConvergenceWarning: Objective did not converge. You might want to increase the number of iterations. Duality gap: 34971.593982766106, tolerance: 3308.7880739514367\n",
      "  model = cd_fast.enet_coordinate_descent(\n",
      "C:\\Users\\rkhna\\AppData\\Local\\Packages\\PythonSoftwareFoundation.Python.3.9_qbz5n2kfra8p0\\LocalCache\\local-packages\\Python39\\site-packages\\sklearn\\linear_model\\_coordinate_descent.py:530: ConvergenceWarning: Objective did not converge. You might want to increase the number of iterations. Duality gap: 6970.087154486885, tolerance: 703.8293562231763\n",
      "  model = cd_fast.enet_coordinate_descent(\n",
      "C:\\Users\\rkhna\\AppData\\Local\\Packages\\PythonSoftwareFoundation.Python.3.9_qbz5n2kfra8p0\\LocalCache\\local-packages\\Python39\\site-packages\\sklearn\\linear_model\\_coordinate_descent.py:530: ConvergenceWarning: Objective did not converge. You might want to increase the number of iterations. Duality gap: 6974.7886240691505, tolerance: 711.8936848559165\n",
      "  model = cd_fast.enet_coordinate_descent(\n",
      "C:\\Users\\rkhna\\AppData\\Local\\Packages\\PythonSoftwareFoundation.Python.3.9_qbz5n2kfra8p0\\LocalCache\\local-packages\\Python39\\site-packages\\sklearn\\linear_model\\_coordinate_descent.py:530: ConvergenceWarning: Objective did not converge. You might want to increase the number of iterations. Duality gap: 6903.7154816122875, tolerance: 701.8573145309629\n",
      "  model = cd_fast.enet_coordinate_descent(\n",
      "C:\\Users\\rkhna\\AppData\\Local\\Packages\\PythonSoftwareFoundation.Python.3.9_qbz5n2kfra8p0\\LocalCache\\local-packages\\Python39\\site-packages\\sklearn\\linear_model\\_coordinate_descent.py:530: ConvergenceWarning: Objective did not converge. You might want to increase the number of iterations. Duality gap: 6950.811696385622, tolerance: 705.2639644607843\n",
      "  model = cd_fast.enet_coordinate_descent(\n",
      "C:\\Users\\rkhna\\AppData\\Local\\Packages\\PythonSoftwareFoundation.Python.3.9_qbz5n2kfra8p0\\LocalCache\\local-packages\\Python39\\site-packages\\sklearn\\linear_model\\_coordinate_descent.py:530: ConvergenceWarning: Objective did not converge. You might want to increase the number of iterations. Duality gap: 7025.794025370249, tolerance: 733.2979411764705\n",
      "  model = cd_fast.enet_coordinate_descent(\n",
      "C:\\Users\\rkhna\\AppData\\Local\\Packages\\PythonSoftwareFoundation.Python.3.9_qbz5n2kfra8p0\\LocalCache\\local-packages\\Python39\\site-packages\\sklearn\\linear_model\\_coordinate_descent.py:530: ConvergenceWarning: Objective did not converge. You might want to increase the number of iterations. Duality gap: 6897.945329373454, tolerance: 713.8664460784312\n",
      "  model = cd_fast.enet_coordinate_descent(\n",
      "C:\\Users\\rkhna\\AppData\\Local\\Packages\\PythonSoftwareFoundation.Python.3.9_qbz5n2kfra8p0\\LocalCache\\local-packages\\Python39\\site-packages\\sklearn\\linear_model\\_coordinate_descent.py:530: ConvergenceWarning: Objective did not converge. You might want to increase the number of iterations. Duality gap: 7175.190597862793, tolerance: 714.6991176470589\n",
      "  model = cd_fast.enet_coordinate_descent(\n",
      "C:\\Users\\rkhna\\AppData\\Local\\Packages\\PythonSoftwareFoundation.Python.3.9_qbz5n2kfra8p0\\LocalCache\\local-packages\\Python39\\site-packages\\sklearn\\linear_model\\_coordinate_descent.py:530: ConvergenceWarning: Objective did not converge. You might want to increase the number of iterations. Duality gap: 7024.610609448924, tolerance: 710.9547977941174\n",
      "  model = cd_fast.enet_coordinate_descent(\n",
      "C:\\Users\\rkhna\\AppData\\Local\\Packages\\PythonSoftwareFoundation.Python.3.9_qbz5n2kfra8p0\\LocalCache\\local-packages\\Python39\\site-packages\\sklearn\\linear_model\\_coordinate_descent.py:530: ConvergenceWarning: Objective did not converge. You might want to increase the number of iterations. Duality gap: 6862.5345550068305, tolerance: 714.3946997549021\n",
      "  model = cd_fast.enet_coordinate_descent(\n",
      "C:\\Users\\rkhna\\AppData\\Local\\Packages\\PythonSoftwareFoundation.Python.3.9_qbz5n2kfra8p0\\LocalCache\\local-packages\\Python39\\site-packages\\sklearn\\linear_model\\_coordinate_descent.py:530: ConvergenceWarning: Objective did not converge. You might want to increase the number of iterations. Duality gap: 6934.5093251461085, tolerance: 708.8170343137256\n",
      "  model = cd_fast.enet_coordinate_descent(\n"
     ]
    },
    {
     "name": "stdout",
     "output_type": "stream",
     "text": [
      "SCORE: 0.780, MSE:10.03, RMSE:3.17\n",
      "r2_score - 0.7783553445866203\n",
      "3\n",
      "10 0.05\n"
     ]
    },
    {
     "name": "stderr",
     "output_type": "stream",
     "text": [
      "C:\\Users\\rkhna\\AppData\\Local\\Packages\\PythonSoftwareFoundation.Python.3.9_qbz5n2kfra8p0\\LocalCache\\local-packages\\Python39\\site-packages\\sklearn\\linear_model\\_coordinate_descent.py:530: ConvergenceWarning: Objective did not converge. You might want to increase the number of iterations. Duality gap: 18416.042035377268, tolerance: 3308.7880739514367\n",
      "  model = cd_fast.enet_coordinate_descent(\n",
      "C:\\Users\\rkhna\\AppData\\Local\\Packages\\PythonSoftwareFoundation.Python.3.9_qbz5n2kfra8p0\\LocalCache\\local-packages\\Python39\\site-packages\\sklearn\\linear_model\\_coordinate_descent.py:530: ConvergenceWarning: Objective did not converge. You might want to increase the number of iterations. Duality gap: 3143.427686776656, tolerance: 703.8293562231763\n",
      "  model = cd_fast.enet_coordinate_descent(\n",
      "C:\\Users\\rkhna\\AppData\\Local\\Packages\\PythonSoftwareFoundation.Python.3.9_qbz5n2kfra8p0\\LocalCache\\local-packages\\Python39\\site-packages\\sklearn\\linear_model\\_coordinate_descent.py:530: ConvergenceWarning: Objective did not converge. You might want to increase the number of iterations. Duality gap: 3116.6084058399283, tolerance: 711.8936848559165\n",
      "  model = cd_fast.enet_coordinate_descent(\n",
      "C:\\Users\\rkhna\\AppData\\Local\\Packages\\PythonSoftwareFoundation.Python.3.9_qbz5n2kfra8p0\\LocalCache\\local-packages\\Python39\\site-packages\\sklearn\\linear_model\\_coordinate_descent.py:530: ConvergenceWarning: Objective did not converge. You might want to increase the number of iterations. Duality gap: 3299.870696687659, tolerance: 701.8573145309629\n",
      "  model = cd_fast.enet_coordinate_descent(\n",
      "C:\\Users\\rkhna\\AppData\\Local\\Packages\\PythonSoftwareFoundation.Python.3.9_qbz5n2kfra8p0\\LocalCache\\local-packages\\Python39\\site-packages\\sklearn\\linear_model\\_coordinate_descent.py:530: ConvergenceWarning: Objective did not converge. You might want to increase the number of iterations. Duality gap: 3165.149672749534, tolerance: 705.2639644607843\n",
      "  model = cd_fast.enet_coordinate_descent(\n",
      "C:\\Users\\rkhna\\AppData\\Local\\Packages\\PythonSoftwareFoundation.Python.3.9_qbz5n2kfra8p0\\LocalCache\\local-packages\\Python39\\site-packages\\sklearn\\linear_model\\_coordinate_descent.py:530: ConvergenceWarning: Objective did not converge. You might want to increase the number of iterations. Duality gap: 3312.12374106905, tolerance: 733.2979411764705\n",
      "  model = cd_fast.enet_coordinate_descent(\n",
      "C:\\Users\\rkhna\\AppData\\Local\\Packages\\PythonSoftwareFoundation.Python.3.9_qbz5n2kfra8p0\\LocalCache\\local-packages\\Python39\\site-packages\\sklearn\\linear_model\\_coordinate_descent.py:530: ConvergenceWarning: Objective did not converge. You might want to increase the number of iterations. Duality gap: 3144.6731155875204, tolerance: 713.8664460784312\n",
      "  model = cd_fast.enet_coordinate_descent(\n",
      "C:\\Users\\rkhna\\AppData\\Local\\Packages\\PythonSoftwareFoundation.Python.3.9_qbz5n2kfra8p0\\LocalCache\\local-packages\\Python39\\site-packages\\sklearn\\linear_model\\_coordinate_descent.py:530: ConvergenceWarning: Objective did not converge. You might want to increase the number of iterations. Duality gap: 3246.5460089376193, tolerance: 714.6991176470589\n",
      "  model = cd_fast.enet_coordinate_descent(\n",
      "C:\\Users\\rkhna\\AppData\\Local\\Packages\\PythonSoftwareFoundation.Python.3.9_qbz5n2kfra8p0\\LocalCache\\local-packages\\Python39\\site-packages\\sklearn\\linear_model\\_coordinate_descent.py:530: ConvergenceWarning: Objective did not converge. You might want to increase the number of iterations. Duality gap: 3251.4516200308744, tolerance: 710.9547977941174\n",
      "  model = cd_fast.enet_coordinate_descent(\n",
      "C:\\Users\\rkhna\\AppData\\Local\\Packages\\PythonSoftwareFoundation.Python.3.9_qbz5n2kfra8p0\\LocalCache\\local-packages\\Python39\\site-packages\\sklearn\\linear_model\\_coordinate_descent.py:530: ConvergenceWarning: Objective did not converge. You might want to increase the number of iterations. Duality gap: 3132.3252607586346, tolerance: 714.3946997549021\n",
      "  model = cd_fast.enet_coordinate_descent(\n",
      "C:\\Users\\rkhna\\AppData\\Local\\Packages\\PythonSoftwareFoundation.Python.3.9_qbz5n2kfra8p0\\LocalCache\\local-packages\\Python39\\site-packages\\sklearn\\linear_model\\_coordinate_descent.py:530: ConvergenceWarning: Objective did not converge. You might want to increase the number of iterations. Duality gap: 3151.7767456342276, tolerance: 708.8170343137256\n",
      "  model = cd_fast.enet_coordinate_descent(\n"
     ]
    },
    {
     "name": "stdout",
     "output_type": "stream",
     "text": [
      "SCORE: 0.888, MSE:4.89, RMSE:2.21\n",
      "r2_score - 0.8920160687898175\n",
      "4\n",
      "10 0.05\n"
     ]
    },
    {
     "name": "stderr",
     "output_type": "stream",
     "text": [
      "C:\\Users\\rkhna\\AppData\\Local\\Packages\\PythonSoftwareFoundation.Python.3.9_qbz5n2kfra8p0\\LocalCache\\local-packages\\Python39\\site-packages\\sklearn\\linear_model\\_coordinate_descent.py:530: ConvergenceWarning: Objective did not converge. You might want to increase the number of iterations. Duality gap: 8615.584275626512, tolerance: 3308.7880739514367\n",
      "  model = cd_fast.enet_coordinate_descent(\n",
      "C:\\Users\\rkhna\\AppData\\Local\\Packages\\PythonSoftwareFoundation.Python.3.9_qbz5n2kfra8p0\\LocalCache\\local-packages\\Python39\\site-packages\\sklearn\\linear_model\\_coordinate_descent.py:530: ConvergenceWarning: Objective did not converge. You might want to increase the number of iterations. Duality gap: 1209.3208157896586, tolerance: 703.8293562231763\n",
      "  model = cd_fast.enet_coordinate_descent(\n",
      "C:\\Users\\rkhna\\AppData\\Local\\Packages\\PythonSoftwareFoundation.Python.3.9_qbz5n2kfra8p0\\LocalCache\\local-packages\\Python39\\site-packages\\sklearn\\linear_model\\_coordinate_descent.py:530: ConvergenceWarning: Objective did not converge. You might want to increase the number of iterations. Duality gap: 1273.1643391170476, tolerance: 711.8936848559165\n",
      "  model = cd_fast.enet_coordinate_descent(\n",
      "C:\\Users\\rkhna\\AppData\\Local\\Packages\\PythonSoftwareFoundation.Python.3.9_qbz5n2kfra8p0\\LocalCache\\local-packages\\Python39\\site-packages\\sklearn\\linear_model\\_coordinate_descent.py:530: ConvergenceWarning: Objective did not converge. You might want to increase the number of iterations. Duality gap: 1266.0069292579597, tolerance: 701.8573145309629\n",
      "  model = cd_fast.enet_coordinate_descent(\n",
      "C:\\Users\\rkhna\\AppData\\Local\\Packages\\PythonSoftwareFoundation.Python.3.9_qbz5n2kfra8p0\\LocalCache\\local-packages\\Python39\\site-packages\\sklearn\\linear_model\\_coordinate_descent.py:530: ConvergenceWarning: Objective did not converge. You might want to increase the number of iterations. Duality gap: 1252.4899308491338, tolerance: 705.2639644607843\n",
      "  model = cd_fast.enet_coordinate_descent(\n",
      "C:\\Users\\rkhna\\AppData\\Local\\Packages\\PythonSoftwareFoundation.Python.3.9_qbz5n2kfra8p0\\LocalCache\\local-packages\\Python39\\site-packages\\sklearn\\linear_model\\_coordinate_descent.py:530: ConvergenceWarning: Objective did not converge. You might want to increase the number of iterations. Duality gap: 1311.3885297345048, tolerance: 733.2979411764705\n",
      "  model = cd_fast.enet_coordinate_descent(\n",
      "C:\\Users\\rkhna\\AppData\\Local\\Packages\\PythonSoftwareFoundation.Python.3.9_qbz5n2kfra8p0\\LocalCache\\local-packages\\Python39\\site-packages\\sklearn\\linear_model\\_coordinate_descent.py:530: ConvergenceWarning: Objective did not converge. You might want to increase the number of iterations. Duality gap: 1166.0318994836869, tolerance: 713.8664460784312\n",
      "  model = cd_fast.enet_coordinate_descent(\n",
      "C:\\Users\\rkhna\\AppData\\Local\\Packages\\PythonSoftwareFoundation.Python.3.9_qbz5n2kfra8p0\\LocalCache\\local-packages\\Python39\\site-packages\\sklearn\\linear_model\\_coordinate_descent.py:530: ConvergenceWarning: Objective did not converge. You might want to increase the number of iterations. Duality gap: 1323.6208846080988, tolerance: 714.6991176470589\n",
      "  model = cd_fast.enet_coordinate_descent(\n",
      "C:\\Users\\rkhna\\AppData\\Local\\Packages\\PythonSoftwareFoundation.Python.3.9_qbz5n2kfra8p0\\LocalCache\\local-packages\\Python39\\site-packages\\sklearn\\linear_model\\_coordinate_descent.py:530: ConvergenceWarning: Objective did not converge. You might want to increase the number of iterations. Duality gap: 1322.0222248987257, tolerance: 710.9547977941174\n",
      "  model = cd_fast.enet_coordinate_descent(\n",
      "C:\\Users\\rkhna\\AppData\\Local\\Packages\\PythonSoftwareFoundation.Python.3.9_qbz5n2kfra8p0\\LocalCache\\local-packages\\Python39\\site-packages\\sklearn\\linear_model\\_coordinate_descent.py:530: ConvergenceWarning: Objective did not converge. You might want to increase the number of iterations. Duality gap: 1270.9181343146397, tolerance: 714.3946997549021\n",
      "  model = cd_fast.enet_coordinate_descent(\n",
      "C:\\Users\\rkhna\\AppData\\Local\\Packages\\PythonSoftwareFoundation.Python.3.9_qbz5n2kfra8p0\\LocalCache\\local-packages\\Python39\\site-packages\\sklearn\\linear_model\\_coordinate_descent.py:530: ConvergenceWarning: Objective did not converge. You might want to increase the number of iterations. Duality gap: 1245.931122030109, tolerance: 708.8170343137256\n",
      "  model = cd_fast.enet_coordinate_descent(\n"
     ]
    },
    {
     "name": "stdout",
     "output_type": "stream",
     "text": [
      "SCORE: 0.937, MSE:2.35, RMSE:1.53\n",
      "r2_score - 0.9480080674770516\n"
     ]
    }
   ],
   "source": [
    "#### CROSS VALIDATION\n",
    "\n",
    "\n",
    "from sklearn.model_selection  import cross_val_score\n",
    "\n",
    "from sklearn.metrics import r2_score\n",
    "from sklearn.linear_model import Lasso\n",
    "from sklearn.metrics import r2_score\n",
    "from sklearn.metrics import mean_squared_error\n",
    "from sklearn.model_selection import train_test_split\n",
    "from sklearn.preprocessing import PolynomialFeatures\n",
    "import math\n",
    "\n",
    "%matplotlib qt\n",
    "\n",
    "t_full = pd.array(pd.DatetimeIndex(suburb_df.iloc[:,1]).astype(np.int64))/1000000000\n",
    "dt = t_full[1]-t_full[0]\n",
    "\n",
    "day_of_month = suburb_df['day_of_month']\n",
    "hour = suburb_df['hour']\n",
    "\n",
    "q=2\n",
    "lag=3\n",
    "stride=1\n",
    "w=math.floor(7*24*60*60/dt)\n",
    "length = bikes.size - w - lag * w - q\n",
    "XX=bikes[q:q+length:stride]\n",
    "X1 = day_of_month[q:q+length:stride]\n",
    "X2 = hour[q:q+length:stride]\n",
    "XX=np.column_stack((XX,X1, X2))\n",
    "#week\n",
    "for i in range(1,lag):\n",
    "    X=bikes[i*w+q:i*w+q+length:stride]\n",
    "    X1 = day_of_month[i*w+q:i*w+q+length:stride]\n",
    "    X2 = hour[i*w+q:i*w+q+length:stride]\n",
    "    XX=np.column_stack((XX,X, X1, X2))\n",
    "d=math.floor(24*60*60/dt)\n",
    "#days\n",
    "for i in range(0,lag):\n",
    "    X=bikes[i*d+q:i*d+q+length:stride]\n",
    "    X1=day_of_month[i*d+q:i*d+q+length:stride]\n",
    "    X2=hour[i*d+q:i*d+q+length:stride]\n",
    "    XX=np.column_stack((XX,X, X1, X2))\n",
    "\n",
    "for i in range(0,lag):\n",
    "    X=bikes[i:i+length:stride]\n",
    "    X1=day_of_month[i:i+length:stride]\n",
    "    X2=hour[i:i+length:stride]\n",
    "    XX=np.column_stack((XX,X, X1, X2))\n",
    "\n",
    "yy=bikes[lag*w+w+q:lag*w+w+q+length:stride] \n",
    "tt=time[lag*w+w+q:lag*w+w+q+length:stride]\n",
    "\n",
    "yy.reset_index(drop=True, inplace=True)\n",
    "tt.reset_index(drop=True, inplace=True)\n",
    "\n",
    "\n",
    "train, test = train_test_split(np.arange(0,yy.size),test_size=0.2)\n",
    "\n",
    "coeff = []\n",
    "alphas = []\n",
    "errors = []\n",
    "scores = []\n",
    "Ci = 10\n",
    "qrange = [1, 2, 3, 4]\n",
    "\n",
    "\n",
    "c_temp = []\n",
    "mean_error = []\n",
    "std_error = []\n",
    "for q in qrange:\n",
    "    print(q)\n",
    "    temp = []\n",
    "    XPoly = PolynomialFeatures(q).fit_transform(XX)\n",
    "    a = 1/(2*Ci)\n",
    "    print(Ci, a)\n",
    "    model = Lasso(alpha= a,tol=1e-2).fit(XPoly[train], yy[train])\n",
    "    coeff.append(model.coef_)\n",
    "    alphas.append(a)\n",
    "    y_pred = model.predict(XPoly)\n",
    "    score = model.score(XPoly[test], yy[test])\n",
    "    cross_val = cross_val_score(model, XPoly[test], yy[test], cv=10)\n",
    "    mean_error.append(np.mean(cross_val))\n",
    "    std_error.append(np.std(cross_val))\n",
    "    #r2_score = r2_score(yy,y_pred)\n",
    "    # scores = cross_val_score(model, XX[test], yy[test], cv=5, scoring='f1')\n",
    "    mse = mean_squared_error(yy,y_pred)\n",
    "    errors.append(np.sqrt(mse))\n",
    "    r2 = r2_score(yy,y_pred)\n",
    "    scores.append(r2)\n",
    "    print(\"SCORE: {0:.3f}, MSE:{1:.2f}, RMSE:{2:.2f}\"\n",
    "   .format(score,  mse,np.sqrt(mse)))\n",
    "    #print(r2_score(yy,y_pred))\n",
    "    print(f'r2_score - {r2}')\n",
    "\n",
    "\n",
    "plt.close(\"all\")\n",
    "fig, (ax1, ax2, ax3) = plt.subplots(1, 3)\n",
    "\n",
    "\n",
    "ax1.plot(qrange,scores)\n",
    "ax1.set_xlabel('Alpha (Polynomial range)')\n",
    "ax1.set_ylabel('Beta (Score)')\n",
    "ax1.set_title('Model Score vs Polynomial Value')\n",
    "ax1.axis('tight')\n",
    "\n",
    "ax2.errorbar(qrange, mean_error, yerr=std_error)\n",
    "ax2.set_xticks(qrange)\n",
    "ax2.set_xlabel(\"ploynomial value\")\n",
    "ax2.set_ylabel(\"error\")\n",
    "ax2.set_title(\"Error vs polynomial\")\n",
    "ax2.axis(\"tight\")\n",
    "\n",
    "ax3 = plt.gca()\n",
    "ax3.ticklabel_format(useOffset=False)\n",
    "errors = [round(num, 5) for num in errors]\n",
    "ax3.plot(qrange, errors)\n",
    "ax3.set_xlabel(\"ploynomial value\")\n",
    "ax3.set_ylabel(\"error\")\n",
    "ax3.set_title(\"Error vs polynomial\")\n",
    "ax3.axis(\"tight\")\n",
    "fig.show()\n",
    "\n",
    "#fig.show()\n",
    "plt.show()"
   ]
  },
  {
   "cell_type": "code",
   "execution_count": 25,
   "id": "e2c2941d",
   "metadata": {},
   "outputs": [],
   "source": []
  },
  {
   "cell_type": "code",
   "execution_count": 24,
   "id": "b8b72f56",
   "metadata": {},
   "outputs": [],
   "source": []
  },
  {
   "cell_type": "code",
   "execution_count": null,
   "id": "d6c02dc1",
   "metadata": {},
   "outputs": [],
   "source": []
  }
 ],
 "metadata": {
  "kernelspec": {
   "display_name": "Python 3 (ipykernel)",
   "language": "python",
   "name": "python3"
  },
  "language_info": {
   "codemirror_mode": {
    "name": "ipython",
    "version": 3
   },
   "file_extension": ".py",
   "mimetype": "text/x-python",
   "name": "python",
   "nbconvert_exporter": "python",
   "pygments_lexer": "ipython3",
   "version": "3.9.9"
  }
 },
 "nbformat": 4,
 "nbformat_minor": 5
}
